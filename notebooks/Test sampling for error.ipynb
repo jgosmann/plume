{
 "metadata": {
  "name": ""
 },
 "nbformat": 3,
 "nbformat_minor": 0,
 "worksheets": [
  {
   "cells": [
    {
     "cell_type": "code",
     "collapsed": false,
     "input": [
      "import tables\n",
      "from plume.prediction import ZeroPredictor\n",
      "from plume.error_estimation import WRMSE, sample_with_metropolis_hastings\n",
      "import plume.error_estimation as eest\n",
      "reload(eest)"
     ],
     "language": "python",
     "metadata": {},
     "outputs": [
      {
       "metadata": {},
       "output_type": "pyout",
       "prompt_number": 63,
       "text": [
        "<module 'plume.error_estimation' from '/Volumes/Home/blubb/Documents/programming/uni/master/plume/plume/error_estimation.py'>"
       ]
      }
     ],
     "prompt_number": 63
    },
    {
     "cell_type": "code",
     "collapsed": false,
     "input": [
      "data = tables.open_file('../Data/test_5.0.h5')\n",
      "with tables.open_file('../Data/test.0.h5') as f:\n",
      "    sources = f.root.sources.read()"
     ],
     "language": "python",
     "metadata": {},
     "outputs": [],
     "prompt_number": 2
    },
    {
     "cell_type": "code",
     "collapsed": false,
     "input": [
      "from plume.client import TaskPlumeClient\n",
      "client = TaskPlumeClient()\n",
      "client.connect_to('127.0.0.1', 10000)\n",
      "client.init('TaskPlumeSingleSourceGaussianDispersionDefaultControls')\n",
      "client.reset_seed(142612519)\n",
      "client.reset()"
     ],
     "language": "python",
     "metadata": {},
     "outputs": [],
     "prompt_number": 8
    },
    {
     "cell_type": "code",
     "collapsed": false,
     "input": [
      "from plume.recorder import load_obj\n",
      "import sys\n",
      "sys.path.append('../plume')\n",
      "gp = load_obj(data.root.gp)"
     ],
     "language": "python",
     "metadata": {},
     "outputs": [],
     "prompt_number": 6
    },
    {
     "cell_type": "code",
     "collapsed": false,
     "input": [
      "conf = {\n",
      "    'area': [[-140, 140], [-140, 140], [-80, 0]],\n",
      "    'num_uniform_samples': 1000,\n",
      "    'num_source_samples': 4200,\n",
      "    'mh_stride': 10,\n",
      "    'proposal_std': 10\n",
      "}\n",
      "loc = eest.gen_probe_locations(client, conf)"
     ],
     "language": "python",
     "metadata": {},
     "outputs": [],
     "prompt_number": 64
    },
    {
     "cell_type": "code",
     "collapsed": false,
     "input": [
      "eest.WRMSE()(ZeroPredictor(), loc, np.asarray(client.get_samples(loc)))"
     ],
     "language": "python",
     "metadata": {},
     "outputs": [
      {
       "metadata": {},
       "output_type": "pyout",
       "prompt_number": 66,
       "text": [
        "(95.17440649073643,)"
       ]
      }
     ],
     "prompt_number": 66
    },
    {
     "cell_type": "code",
     "collapsed": false,
     "input": [
      "eest.WRMSE()(gp, loc, np.asarray(client.get_samples(loc)))"
     ],
     "language": "python",
     "metadata": {},
     "outputs": [
      {
       "metadata": {},
       "output_type": "pyout",
       "prompt_number": 67,
       "text": [
        "(18.662631743954268,)"
       ]
      }
     ],
     "prompt_number": 67
    },
    {
     "cell_type": "code",
     "collapsed": false,
     "input": [
      "scatter(loc[:, 0], loc[:, 1])"
     ],
     "language": "python",
     "metadata": {},
     "outputs": [
      {
       "metadata": {},
       "output_type": "pyout",
       "prompt_number": 68,
       "text": [
        "<matplotlib.collections.PathCollection at 0x11686a190>"
       ]
      }
     ],
     "prompt_number": 68
    },
    {
     "cell_type": "code",
     "collapsed": false,
     "input": [],
     "language": "python",
     "metadata": {},
     "outputs": []
    }
   ],
   "metadata": {}
  }
 ]
}