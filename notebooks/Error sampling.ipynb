{
 "metadata": {
  "name": ""
 },
 "nbformat": 3,
 "nbformat_minor": 0,
 "worksheets": [
  {
   "cells": [
    {
     "cell_type": "code",
     "collapsed": false,
     "input": [
      "from neatplots.predefined import four as palette\n",
      "from matplotlib.gridspec import GridSpec, GridSpecFromSubplotSpec\n",
      "\n",
      "%pylab inline\n",
      "%load_ext autoreload\n",
      "%autoreload 2\n",
      "\n",
      "gray = (0.3, 0.3, 0.3)\n",
      "seed(64321)\n",
      "\n",
      "import latexstyle\n",
      "latexstyle.setup()"
     ],
     "language": "python",
     "metadata": {},
     "outputs": [
      {
       "output_type": "stream",
       "stream": "stdout",
       "text": [
        "Populating the interactive namespace from numpy and matplotlib\n"
       ]
      }
     ],
     "prompt_number": 1
    },
    {
     "cell_type": "code",
     "collapsed": false,
     "input": [
      "def draw_from_proposal_dist(x0, area, proposal_std):\n",
      "    x = np.inf\n",
      "    while x < area[0] or x > area[1]:\n",
      "        x = x0 + proposal_std * randn()\n",
      "    return x\n",
      "\n",
      "def sample_with_metropolis_hastings(\n",
      "        density, x0, area, num_samples, proposal_std):\n",
      "    positions = np.empty(num_samples)\n",
      "    values = np.empty(num_samples)\n",
      "\n",
      "    f = 0\n",
      "    while f <= 0:\n",
      "        x = draw_from_proposal_dist(x0, area, proposal_std)\n",
      "        f = density(x)\n",
      "\n",
      "    for i in xrange(num_samples):\n",
      "        x_new = draw_from_proposal_dist(x, area, proposal_std)\n",
      "        f_new = density(x_new)\n",
      "        if f <= 0:\n",
      "            acceptance_ratio = 1\n",
      "        else:\n",
      "            acceptance_ratio = f_new / f\n",
      "        if rand() < acceptance_ratio:\n",
      "            x = x_new\n",
      "            f = f_new\n",
      "\n",
      "        positions[i] = x_new\n",
      "        values[i] = f\n",
      "\n",
      "    return positions, values\n",
      "\n",
      "\n",
      "def gen_probe_locations(area, density):\n",
      "    area = np.asarray(area)\n",
      "    source = 0.0\n",
      "\n",
      "    num_uniform_samples = 0\n",
      "    num_samples_per_source = 50\n",
      "    mh_stride = 5\n",
      "\n",
      "    uniform_samples = (area[1] - area[0]) * rand(num_uniform_samples) + area[0]\n",
      "\n",
      "    samples = sample_with_metropolis_hastings(\n",
      "        density, source, area, num_samples_per_source, 2)[0][::mh_stride]\n",
      "\n",
      "    samples_gauss = []\n",
      "    for i in xrange(mh_stride):\n",
      "        samples_gauss.extend(\n",
      "            2 * randn() + s for s in samples)\n",
      "    samples_gauss = filter(\n",
      "        lambda x: np.all(x > area[0]) and np.all(x < area[1]), samples_gauss)\n",
      "\n",
      "    return np.concatenate([uniform_samples, samples, samples_gauss])\n",
      "\n",
      "def gen_probe_locations_qrsim(area, density, num):\n",
      "    samples = []\n",
      "    while len(samples) < num:\n",
      "        num_missing = num - len(samples)\n",
      "        new_samples = (area[1] - area[0]) * rand(num_missing) + area[0]\n",
      "        samples.extend(filter(lambda x: density(x) > 1e-3, new_samples))\n",
      "    return samples"
     ],
     "language": "python",
     "metadata": {},
     "outputs": [],
     "prompt_number": 2
    },
    {
     "cell_type": "code",
     "collapsed": false,
     "input": [
      "density = lambda x: np.exp(-(x**2) / 2.0)\n",
      "#def density(x):\n",
      "#    x = np.atleast_1d(x)\n",
      "#    mask = x > 0\n",
      "#    a = 2 * 0.33 * (x[mask] ** 0.86)\n",
      "#    y = np.zeros_like(x)\n",
      "#    y[mask] = 1 / np.pi / 6 / a * (np.exp(-(5.0 ** 2) / a) + np.exp(-(45.0 ** 2) / a))\n",
      "#    return y\n",
      "\n",
      "x_range = (-7, 13)\n",
      "xs = np.linspace(x_range[0], x_range[1], 150)\n",
      "ys = density(xs)"
     ],
     "language": "python",
     "metadata": {},
     "outputs": [],
     "prompt_number": 3
    },
    {
     "cell_type": "code",
     "collapsed": false,
     "input": [
      "fig = plt.figure(figsize=(3, 1.5))\n",
      "ax = fig.add_subplot(1, 1, 1)\n",
      "\n",
      "loc = gen_probe_locations(x_range, density)\n",
      "print len(loc)\n",
      "loc_qrsim = gen_probe_locations_qrsim(x_range, density, len(loc))\n",
      "\n",
      "ax.plot(xs, ys, c=palette.thin[1])\n",
      "ax.scatter(loc_qrsim, np.zeros_like(loc_qrsim) - 0.1, c=palette.thick[0], marker='s', label='QRSim sampling')\n",
      "ax.scatter(loc, np.zeros_like(loc) - 0.2, c=palette.thick[3], label='MH based sampling')\n",
      "\n",
      "latexstyle.style_axes(ax)\n",
      "ax.set_xlim(*x_range)\n",
      "ax.set_ylim(-0.3, 1.0)\n",
      "ax.legend(frameon=False, columnspacing=1.5, handletextpad=0.2)\n",
      "\n",
      "ax.set_xlabel(r'$x$', labelpad=0)\n",
      "ax.set_ylabel(r'$y$', labelpad=0, rotation='horizontal', verticalalignment='center')"
     ],
     "language": "python",
     "metadata": {},
     "outputs": [
      {
       "output_type": "stream",
       "stream": "stdout",
       "text": [
        "59\n"
       ]
      },
      {
       "metadata": {},
       "output_type": "pyout",
       "prompt_number": 4,
       "text": [
        "<matplotlib.text.Text at 0x111792090>"
       ]
      },
      {
       "metadata": {},
       "output_type": "display_data",
       "png": "[encoded data removed]",
       "text": [
        "<matplotlib.figure.Figure at 0x10b1c5490>"
       ]
      }
     ],
     "prompt_number": 4
    },
    {
     "cell_type": "code",
     "collapsed": false,
     "input": [
      "fig.savefig('../../thesis/plots/err-sampling.pdf')"
     ],
     "language": "python",
     "metadata": {},
     "outputs": [],
     "prompt_number": 5
    },
    {
     "cell_type": "code",
     "collapsed": false,
     "input": [],
     "language": "python",
     "metadata": {},
     "outputs": [],
     "prompt_number": 5
    }
   ],
   "metadata": {}
  }
 ]
}