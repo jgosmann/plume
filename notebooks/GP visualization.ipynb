{
 "metadata": {
  "name": ""
 },
 "nbformat": 3,
 "nbformat_minor": 0,
 "worksheets": [
  {
   "cells": [
    {
     "cell_type": "code",
     "collapsed": false,
     "input": [
      "from neatplots.predefined import four as palette\n",
      "from matplotlib.patches import Rectangle\n",
      "from matplotlib.gridspec import GridSpec, GridSpecFromSubplotSpec\n",
      "\n",
      "from plume.prediction import OnlineGP, RBFKernel, ExponentialKernel, Matern32Kernel, Matern52Kernel\n",
      "\n",
      "%pylab inline\n",
      "%load_ext autoreload\n",
      "%autoreload 2\n",
      "\n",
      "gray = (0.3, 0.3, 0.3)\n",
      "seed(64321)\n",
      "\n",
      "import latexstyle\n",
      "latexstyle.setup()"
     ],
     "language": "python",
     "metadata": {},
     "outputs": [
      {
       "output_type": "stream",
       "stream": "stdout",
       "text": [
        "Populating the interactive namespace from numpy and matplotlib\n",
        "The autoreload extension is already loaded. To reload it, use:"
       ]
      },
      {
       "output_type": "stream",
       "stream": "stdout",
       "text": [
        "\n",
        "  %reload_ext autoreload\n"
       ]
      },
      {
       "output_type": "stream",
       "stream": "stderr",
       "text": [
        "WARNING: pylab import has clobbered these variables: ['mean', 'gray', 'grid']\n",
        "`%pylab --no-import-all` prevents importing * from pylab and numpy\n"
       ]
      }
     ],
     "prompt_number": 26
    },
    {
     "cell_type": "code",
     "collapsed": false,
     "input": [
      "x_range = (0, 7)\n",
      "y_range = (-1.5, 2)\n",
      "fn = lambda x: np.sin(x)\n",
      "\n",
      "xs = np.linspace(x_range[0], x_range[1], 100)\n",
      "ys = fn(xs)\n",
      "\n",
      "noise_std = 0\n",
      "train_x = x_range[0] + (x_range[1] - x_range[0]) * rand(5)\n",
      "train_y = fn(train_x) + noise_std * randn(len(train_x))"
     ],
     "language": "python",
     "metadata": {},
     "outputs": [],
     "prompt_number": 9
    },
    {
     "cell_type": "code",
     "collapsed": false,
     "input": [
      "kernel = RBFKernel(1)\n",
      "gp = OnlineGP(kernel, noise_std ** 2)\n",
      "gp.fit(np.atleast_2d(train_x).T, np.atleast_2d(train_y).T)"
     ],
     "language": "python",
     "metadata": {},
     "outputs": [],
     "prompt_number": 10
    },
    {
     "cell_type": "code",
     "collapsed": false,
     "input": [
      "mean, mse = gp.predict(np.atleast_2d(xs).T, eval_MSE=True)\n",
      "\n",
      "fig = plt.figure(figsize=(2.36, 1.57))\n",
      "ax = fig.add_subplot(1, 1, 1)\n",
      "ax.fill_between(\n",
      "    xs, np.squeeze(mean) - np.sqrt(mse), np.squeeze(mean) + np.sqrt(mse),\n",
      "    color=tuple(palette.thin[1]) + (0.2,), edgecolor='none')\n",
      "ax.plot(xs, mean, color=palette.thin[1], label=r'$\\mu(x)$')\n",
      "ax.scatter(train_x, train_y, marker='+', s=24, color=palette.thin[1], label=r'$X_*$')\n",
      "\n",
      "latexstyle.style_axes(ax)\n",
      "ax.set_xlim(*x_range)\n",
      "ax.set_ylim(*y_range)\n",
      "ax.set_xlabel(r'$x$', labelpad=0)\n",
      "ax.set_ylabel(r'$y$', labelpad=0, rotation='horizontal', verticalalignment='center')\n",
      "\n",
      "handles, labels = ax.get_legend_handles_labels()\n",
      "# Move Observations legend\n",
      "handles.insert(0, handles.pop(1))\n",
      "labels.insert(0, labels.pop(1))\n",
      "# Insert Predictive SD legend\n",
      "handles.insert(2, Rectangle((0, 0), 1, 1, fc=tuple(palette.thin[1]) + (0.2,), ec='none'))\n",
      "labels.insert(2, r'$\\pm \\sigma(x)$')\n",
      "\n",
      "ax.legend(handles, labels, ncol=3, loc='upper center', bbox_to_anchor=(0.5, 1.05), frameon=False)"
     ],
     "language": "python",
     "metadata": {},
     "outputs": [
      {
       "metadata": {},
       "output_type": "pyout",
       "prompt_number": 11,
       "text": [
        "<matplotlib.legend.Legend at 0x11bbfabd0>"
       ]
      },
      {
       "metadata": {},
       "output_type": "display_data",
       "png": "[encoded data removed]",
       "text": [
        "<matplotlib.figure.Figure at 0x11bab8850>"
       ]
      }
     ],
     "prompt_number": 11
    },
    {
     "cell_type": "code",
     "collapsed": false,
     "input": [
      "fig.savefig('../../thesis/plots/gp.pdf')"
     ],
     "language": "python",
     "metadata": {},
     "outputs": [],
     "prompt_number": 12
    },
    {
     "cell_type": "code",
     "collapsed": false,
     "input": [
      "mean, cv = gp.predict(np.atleast_2d(xs).T, eval_MSE=True, complete_cov=True)\n",
      "\n",
      "fig = plt.figure(figsize=(2.36, 1.57))\n",
      "ax = fig.add_subplot(1, 1, 1)\n",
      "for i in xrange(3):\n",
      "    ax.plot(xs, multivariate_normal(np.squeeze(mean), cv), color=palette.thin[(i + 2) % 4])\n",
      "ax.scatter(train_x, train_y, marker='+', s=24, color=palette.thin[1], label=r'$X_*$')\n",
      "\n",
      "latexstyle.style_axes(ax)\n",
      "ax.set_xlim(*x_range)\n",
      "ax.set_ylim(*y_range)\n",
      "ax.set_xlabel(r'$x$', labelpad=0)\n",
      "ax.set_ylabel(r'$y$', labelpad=0, rotation='horizontal', verticalalignment='center')"
     ],
     "language": "python",
     "metadata": {},
     "outputs": [
      {
       "metadata": {},
       "output_type": "pyout",
       "prompt_number": 13,
       "text": [
        "<matplotlib.text.Text at 0x11bcc0790>"
       ]
      },
      {
       "metadata": {},
       "output_type": "display_data",
       "png": "[encoded data removed]",
       "text": [
        "<matplotlib.figure.Figure at 0x11bbfafd0>"
       ]
      }
     ],
     "prompt_number": 13
    },
    {
     "cell_type": "code",
     "collapsed": false,
     "input": [
      "fig.savefig('../../thesis/plots/gp_sample.pdf')"
     ],
     "language": "python",
     "metadata": {},
     "outputs": [],
     "prompt_number": 14
    },
    {
     "cell_type": "heading",
     "level": 1,
     "metadata": {},
     "source": [
      "Lengthscale vis"
     ]
    },
    {
     "cell_type": "code",
     "collapsed": false,
     "input": [
      "gauss = lambda x: 1.0 / np.sqrt(2.0 * np.pi) * np.exp(-(x ** 2) / 2.0)\n",
      "\n",
      "x_range = (-14.5, 7)\n",
      "y_range = (-1.25, 1.25)\n",
      "\n",
      "xs = np.linspace(x_range[0], x_range[1], 100)\n",
      "ys = gauss(xs)\n",
      "\n",
      "train_x = np.array([[-7.5, -6, -4.5, -3, -1.5, 0]]).T\n",
      "train_y = gauss(train_x)"
     ],
     "language": "python",
     "metadata": {},
     "outputs": [],
     "prompt_number": 15
    },
    {
     "cell_type": "code",
     "collapsed": false,
     "input": [
      "fig = plt.figure(figsize=(5.35, 1.77))\n",
      "\n",
      "legend_height = 0.05\n",
      "legend_grid = GridSpec(2, 1, height_ratios=(1.0 - legend_height, legend_height), hspace=0.35)\n",
      "grid = GridSpecFromSubplotSpec(1, 2, subplot_spec=legend_grid[0], wspace=0.1)\n",
      "\n",
      "gp = OnlineGP(Matern32Kernel(1), 0)\n",
      "gp.fit(train_x, train_y)\n",
      "mean, mse = gp.predict(np.atleast_2d(xs).T, eval_MSE=True)\n",
      "\n",
      "ax = fig.add_subplot(grid[0])\n",
      "line, = ax.plot(xs, ys, '--', c=gray, label='Target function')\n",
      "line.set_dashes((3, 3))\n",
      "ax.fill_between(\n",
      "    xs, np.squeeze(mean) - np.sqrt(mse), np.squeeze(mean) + np.sqrt(mse),\n",
      "    color=tuple(palette.thin[1]) + (0.2,), edgecolor='none')\n",
      "ax.plot(xs, mean, color=palette.thin[1], label=r'$\\mu(x)$')\n",
      "ax.scatter(train_x, train_y, marker='+', s=24, color=palette.thin[1], label=r'$X_*$')\n",
      "\n",
      "latexstyle.style_axes(ax)\n",
      "ax.set_xlim(*x_range)\n",
      "ax.set_ylim(*y_range)\n",
      "ax.set_xlabel(r'$x$', labelpad=0)\n",
      "ax.set_ylabel(r'$y$', labelpad=0, rotation='horizontal', verticalalignment='center')\n",
      "ax.set_title(r'$\\ell = 1$')\n",
      "\n",
      "gp = OnlineGP(Matern32Kernel(10), 0)\n",
      "gp.fit(train_x, train_y)\n",
      "mean, mse = gp.predict(np.atleast_2d(xs).T, eval_MSE=True)\n",
      "\n",
      "ax = fig.add_subplot(grid[1])\n",
      "line, = ax.plot(xs, ys, '--', c=gray, label='Target function')\n",
      "line.set_dashes((3, 3))\n",
      "ax.fill_between(\n",
      "    xs, np.squeeze(mean) - np.sqrt(mse), np.squeeze(mean) + np.sqrt(mse),\n",
      "    color=tuple(palette.thin[1]) + (0.2,), edgecolor='none')\n",
      "ax.plot(xs, mean, color=palette.thin[1], label=r'$\\mu(x)$')\n",
      "ax.scatter(train_x, train_y, marker='+', s=24, color=palette.thin[1], label=r'$X_*$')\n",
      "\n",
      "latexstyle.style_axes(ax)\n",
      "ax.set_xlim(*x_range)\n",
      "ax.set_ylim(*y_range)\n",
      "ax.set_xlabel(r'$x$', labelpad=0)\n",
      "plt.setp(ax.get_yticklabels(), visible=False)\n",
      "ax.set_title(r'$\\ell = 10$')\n",
      "\n",
      "handles, labels = ax.get_legend_handles_labels()\n",
      "# Move Observations legend\n",
      "handles.insert(1, handles.pop(2))\n",
      "labels.insert(1, labels.pop(2))\n",
      "# Insert Predictive SD legend\n",
      "handles.insert(3, Rectangle((0, 0), 1, 1, fc=tuple(palette.thin[1]) + (0.2,), ec='none'))\n",
      "labels.insert(3, r'$\\pm \\sigma(x)$')\n",
      "\n",
      "ax = fig.add_subplot(legend_grid[1])\n",
      "ax.set_axis_off()\n",
      "ax.legend(handles, labels, ncol=4, loc='upper center', bbox_to_anchor=(0.5, 1.0), frameon=False)"
     ],
     "language": "python",
     "metadata": {},
     "outputs": [
      {
       "metadata": {},
       "output_type": "pyout",
       "prompt_number": 16,
       "text": [
        "<matplotlib.legend.Legend at 0x11c0efc50>"
       ]
      },
      {
       "metadata": {},
       "output_type": "display_data",
       "png": "[encoded data removed]",
       "text": [
        "<matplotlib.figure.Figure at 0x11c18bf90>"
       ]
      }
     ],
     "prompt_number": 16
    },
    {
     "cell_type": "code",
     "collapsed": false,
     "input": [
      "fig.savefig('../../thesis/plots/gp-lengthscale.pdf')"
     ],
     "language": "python",
     "metadata": {},
     "outputs": [],
     "prompt_number": 17
    },
    {
     "cell_type": "heading",
     "level": 1,
     "metadata": {},
     "source": [
      "Kernels"
     ]
    },
    {
     "cell_type": "code",
     "collapsed": false,
     "input": [
      "x_range = (-4, 4)\n",
      "xs = np.linspace(x_range[0], x_range[1], 250)\n",
      "\n",
      "fig = plt.figure(figsize=(3, 1.5))\n",
      "ax = fig.add_subplot(1, 1, 1)\n",
      "\n",
      "kernels = [\n",
      "    (r'$k_{\\mathrm{SE}}(r)$', RBFKernel(1)),\n",
      "    (r'$k_{5/2}(r)$', Matern52Kernel(1)),\n",
      "    (r'$k_{3/2}(r)$', Matern32Kernel(1)),\n",
      "    (r'$k_{\\mathrm{exp}}(r)$', ExponentialKernel(1))]\n",
      "styles = [tuple(), (3, 2), (3, 1, 0.4, 1), (0.4, 1)]\n",
      "\n",
      "for (name, k), c, s in zip(kernels, palette.thin, styles):\n",
      "    line, = ax.plot(xs, np.squeeze(k(np.atleast_2d(xs).T, np.array([[0]]))), c=c, label=name)\n",
      "    line.set_dashes(s)\n",
      "    \n",
      "latexstyle.style_axes(ax)\n",
      "ax.set_xlim(*x_range)\n",
      "ax.set_ylim(0, 1)\n",
      "ax.set_xlabel(r'$r$', labelpad=0)\n",
      "ax.set_ylabel(r'$k(r)$', rotation='horizontal', verticalalignment='center')\n",
      "ax.legend(frameon=False)"
     ],
     "language": "python",
     "metadata": {},
     "outputs": [
      {
       "metadata": {},
       "output_type": "pyout",
       "prompt_number": 67,
       "text": [
        "<matplotlib.legend.Legend at 0x11cac7b90>"
       ]
      },
      {
       "metadata": {},
       "output_type": "display_data",
       "png": "[encoded data removed]",
       "text": [
        "<matplotlib.figure.Figure at 0x11c9207d0>"
       ]
      }
     ],
     "prompt_number": 67
    },
    {
     "cell_type": "code",
     "collapsed": false,
     "input": [
      "fig.savefig('../../thesis/plots/kernels.pdf')"
     ],
     "language": "python",
     "metadata": {},
     "outputs": [],
     "prompt_number": 68
    },
    {
     "cell_type": "code",
     "collapsed": false,
     "input": [],
     "language": "python",
     "metadata": {},
     "outputs": []
    }
   ],
   "metadata": {}
  }
 ]
}