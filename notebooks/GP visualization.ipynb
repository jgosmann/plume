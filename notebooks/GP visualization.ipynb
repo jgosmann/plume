{
 "metadata": {
  "name": ""
 },
 "nbformat": 3,
 "nbformat_minor": 0,
 "worksheets": [
  {
   "cells": [
    {
     "cell_type": "code",
     "collapsed": false,
     "input": [
      "from neatplots.predefined import four as palette\n",
      "from matplotlib.patches import Rectangle\n",
      "from matplotlib.gridspec import GridSpec, SubplotSpec\n",
      "\n",
      "from plume.prediction import OnlineGP, RBFKernel\n",
      "\n",
      "%pylab inline\n",
      "%load_ext autoreload\n",
      "%autoreload 2\n",
      "\n",
      "gray = (0.3, 0.3, 0.3)\n",
      "seed(64321)\n",
      "\n",
      "import latexstyle\n",
      "latexstyle.setup()"
     ],
     "language": "python",
     "metadata": {},
     "outputs": [
      {
       "output_type": "stream",
       "stream": "stdout",
       "text": [
        "Populating the interactive namespace from numpy and matplotlib\n",
        "The autoreload extension is already loaded. To reload it, use:\n",
        "  %reload_ext autoreload\n"
       ]
      },
      {
       "output_type": "stream",
       "stream": "stderr",
       "text": [
        "WARNING: pylab import has clobbered these variables: ['mean', 'gray']\n",
        "`%pylab --no-import-all` prevents importing * from pylab and numpy\n"
       ]
      }
     ],
     "prompt_number": 97
    },
    {
     "cell_type": "code",
     "collapsed": false,
     "input": [
      "x_range = (0, 7)\n",
      "y_range = (-1.5, 2)\n",
      "fn = lambda x: np.sin(x)\n",
      "\n",
      "xs = np.linspace(x_range[0], x_range[1], 100)\n",
      "ys = fn(xs)\n",
      "\n",
      "noise_std = 0\n",
      "train_x = x_range[0] + (x_range[1] - x_range[0]) * rand(5)\n",
      "train_y = fn(train_x) + noise_std * randn(len(train_x))"
     ],
     "language": "python",
     "metadata": {},
     "outputs": [],
     "prompt_number": 98
    },
    {
     "cell_type": "code",
     "collapsed": false,
     "input": [
      "kernel = RBFKernel(1)\n",
      "gp = OnlineGP(kernel, noise_std ** 2)\n",
      "gp.fit(np.atleast_2d(train_x).T, np.atleast_2d(train_y).T)"
     ],
     "language": "python",
     "metadata": {},
     "outputs": [],
     "prompt_number": 99
    },
    {
     "cell_type": "code",
     "collapsed": false,
     "input": [
      "mean, mse = gp.predict(np.atleast_2d(xs).T, eval_MSE=True)\n",
      "\n",
      "fig = plt.figure(figsize=(2.36, 1.57))\n",
      "ax = fig.add_subplot(1, 1, 1)\n",
      "ax.fill_between(\n",
      "    xs, np.squeeze(mean) - np.sqrt(mse), np.squeeze(mean) + np.sqrt(mse),\n",
      "    color=tuple(palette.thin[1]) + (0.2,), edgecolor='none')\n",
      "ax.plot(xs, mean, color=palette.thin[1], label=r'$\\bar{f_*}$')\n",
      "ax.scatter(train_x, train_y, marker='+', s=24, color=palette.thin[1], label=r'$X_*$')\n",
      "\n",
      "latexstyle.style_axes(ax)\n",
      "ax.set_xlim(*x_range)\n",
      "ax.set_ylim(*y_range)\n",
      "ax.set_xlabel(r'$x$', labelpad=0)\n",
      "ax.set_ylabel(r'$y$', labelpad=0, rotation='horizontal', verticalalignment='center')\n",
      "\n",
      "handles, labels = ax.get_legend_handles_labels()\n",
      "# Move Observations legend\n",
      "handles.insert(0, handles.pop(1))\n",
      "labels.insert(0, labels.pop(1))\n",
      "# Insert Predictive SD legend\n",
      "handles.insert(2, Rectangle((0, 0), 1, 1, fc=tuple(palette.thin[1]) + (0.2,), ec='none'))\n",
      "labels.insert(2, r'$\\pm \\sigma(X_*)$')\n",
      "\n",
      "ax.legend(handles, labels, ncol=3, loc='upper center', bbox_to_anchor=(0.5, 1.05), frameon=False)"
     ],
     "language": "python",
     "metadata": {},
     "outputs": [
      {
       "metadata": {},
       "output_type": "pyout",
       "prompt_number": 100,
       "text": [
        "<matplotlib.legend.Legend at 0x113174dd0>"
       ]
      },
      {
       "metadata": {},
       "output_type": "display_data",
       "png": "[encoded data removed]",
       "text": [
        "<matplotlib.figure.Figure at 0x112fed250>"
       ]
      }
     ],
     "prompt_number": 100
    },
    {
     "cell_type": "code",
     "collapsed": false,
     "input": [
      "fig.savefig('../../thesis/plots/gp.pdf')"
     ],
     "language": "python",
     "metadata": {},
     "outputs": [],
     "prompt_number": 101
    },
    {
     "cell_type": "code",
     "collapsed": false,
     "input": [
      "mean, cv = gp.predict(np.atleast_2d(xs).T, eval_MSE=True, complete_cov=True)\n",
      "\n",
      "fig = plt.figure(figsize=(2.36, 1.57))\n",
      "ax = fig.add_subplot(1, 1, 1)\n",
      "for i in xrange(3):\n",
      "    ax.plot(xs, multivariate_normal(np.squeeze(mean), cv), color=palette.thin[(i + 2) % 4])\n",
      "ax.scatter(train_x, train_y, marker='+', s=24, color=palette.thin[1], label=r'$X_*$')\n",
      "\n",
      "latexstyle.style_axes(ax)\n",
      "ax.set_xlim(*x_range)\n",
      "ax.set_ylim(*y_range)\n",
      "ax.set_xlabel(r'$x$', labelpad=0)\n",
      "ax.set_ylabel(r'$y$', labelpad=0, rotation='horizontal', verticalalignment='center')"
     ],
     "language": "python",
     "metadata": {},
     "outputs": [
      {
       "metadata": {},
       "output_type": "pyout",
       "prompt_number": 102,
       "text": [
        "<matplotlib.text.Text at 0x113008c50>"
       ]
      },
      {
       "metadata": {},
       "output_type": "display_data",
       "png": "[encoded data removed]",
       "text": [
        "<matplotlib.figure.Figure at 0x112f027d0>"
       ]
      }
     ],
     "prompt_number": 102
    },
    {
     "cell_type": "code",
     "collapsed": false,
     "input": [
      "fig.savefig('../../thesis/plots/gp_sample.pdf')"
     ],
     "language": "python",
     "metadata": {},
     "outputs": [],
     "prompt_number": 103
    },
    {
     "cell_type": "code",
     "collapsed": false,
     "input": [],
     "language": "python",
     "metadata": {},
     "outputs": [],
     "prompt_number": 103
    }
   ],
   "metadata": {}
  }
 ]
}