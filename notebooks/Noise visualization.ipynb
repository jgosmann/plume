{
 "metadata": {
  "name": ""
 },
 "nbformat": 3,
 "nbformat_minor": 0,
 "worksheets": [
  {
   "cells": [
    {
     "cell_type": "code",
     "collapsed": false,
     "input": [
      "import itertools\n",
      "import os.path\n",
      "import sys\n",
      "sys.path.append('../plume')\n",
      "\n",
      "from neatplots.colors import create_distinct_colors, MplLCHColor, SequentialLCPalette\n",
      "from neatplots.tools import SharedAxesGrid\n",
      "from neatplots.visualize import plot_colors\n",
      "from matplotlib.gridspec import GridSpec, SubplotSpec\n",
      "import tables\n",
      "\n",
      "%pylab inline"
     ],
     "language": "python",
     "metadata": {},
     "outputs": [
      {
       "output_type": "stream",
       "stream": "stdout",
       "text": [
        "Populating the interactive namespace from numpy and matplotlib\n"
       ]
      }
     ],
     "prompt_number": 1
    },
    {
     "cell_type": "code",
     "collapsed": false,
     "input": [
      "def to_paramstr(search):\n",
      "    return 'search={!r}'.format(search)\n",
      "\n",
      "def iter_trial_filenames(basename, start=0):\n",
      "    i = start\n",
      "    while True:\n",
      "        filename = os.path.join('..', 'Data', '{}.{}.h5'.format(basename, i))\n",
      "        if not os.path.isfile(filename):\n",
      "            if i == start:\n",
      "                warnings.warn(\"No datafiles for '{}'.\".format(basename))\n",
      "            return\n",
      "        yield filename\n",
      "        i += 1\n",
      "\n",
      "def extend_data(a, size):\n",
      "    cur_size = a.size\n",
      "    a = np.resize(a, size)\n",
      "    a[cur_size:] = a[cur_size - 1]\n",
      "    return a\n",
      "\n",
      "def cached(fn):\n",
      "    cache = {}\n",
      "    def fn_with_cache(*args):\n",
      "        if args not in cache:\n",
      "            cache[args] = fn(*args)\n",
      "        return cache[args]\n",
      "    return fn_with_cache    "
     ],
     "language": "python",
     "metadata": {},
     "outputs": [],
     "prompt_number": 5
    },
    {
     "cell_type": "code",
     "collapsed": false,
     "input": [
      "@cached\n",
      "def get_error_trace(experiment, paramstr, error_type):\n",
      "    datasets = []\n",
      "    for filename in iter_trial_filenames(os.path.join(experiment, paramstr)):\n",
      "        with tables.open_file(filename) as fileh:\n",
      "            x = fileh.root.plume_found_step[0]\n",
      "            print x\n",
      "            d = fileh.get_node(fileh.root, error_type).read()\n",
      "            d /= d[0]\n",
      "            datasets.append(d)\n",
      "    if len(datasets) <= 0:\n",
      "        return np.ones(5000)\n",
      "    datasets = [extend_data(d, 5000) for d in datasets]\n",
      "    return np.mean(datasets, axis=0)"
     ],
     "language": "python",
     "metadata": {},
     "outputs": [],
     "prompt_number": 28
    },
    {
     "cell_type": "code",
     "collapsed": false,
     "input": [
      "plt.figure()\n",
      "plt.plot(get_error_trace('MultiSourceGaussianDispersion', to_paramstr('complete'), 'rmse'))"
     ],
     "language": "python",
     "metadata": {},
     "outputs": [
      {
       "output_type": "stream",
       "stream": "stdout",
       "text": [
        "626\n",
        "1574\n",
        "628\n",
        "582\n",
        "682\n",
        "1786\n",
        "577\n",
        "577\n",
        "1612\n",
        "1322\n",
        "1038\n",
        "1145\n",
        "1256\n",
        "617"
       ]
      },
      {
       "output_type": "stream",
       "stream": "stdout",
       "text": [
        "\n",
        "587\n",
        "1051\n",
        "1121\n",
        "1281\n",
        "1191\n",
        "592\n"
       ]
      },
      {
       "metadata": {},
       "output_type": "pyout",
       "prompt_number": 29,
       "text": [
        "[<matplotlib.lines.Line2D at 0x1147d0c50>]"
       ]
      },
      {
       "metadata": {},
       "output_type": "display_data",
       "png": "[encoded data removed]",
       "text": [
        "<matplotlib.figure.Figure at 0x1147af050>"
       ]
      }
     ],
     "prompt_number": 29
    },
    {
     "cell_type": "code",
     "collapsed": false,
     "input": [],
     "language": "python",
     "metadata": {},
     "outputs": []
    }
   ],
   "metadata": {}
  }
 ]
}