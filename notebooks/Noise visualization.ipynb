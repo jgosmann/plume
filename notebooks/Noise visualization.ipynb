{
 "metadata": {
  "name": ""
 },
 "nbformat": 3,
 "nbformat_minor": 0,
 "worksheets": [
  {
   "cells": [
    {
     "cell_type": "code",
     "collapsed": false,
     "input": [
      "import itertools\n",
      "import os.path\n",
      "import sys\n",
      "sys.path.append('../plume')\n",
      "\n",
      "from neatplots.colors import create_distinct_colors, MplLCHColor, SequentialLCPalette\n",
      "from neatplots.predefined import four as palette\n",
      "from neatplots.tools import SharedAxesGrid\n",
      "from neatplots.visualize import plot_colors\n",
      "from matplotlib.gridspec import GridSpec, SubplotSpec\n",
      "import tables\n",
      "\n",
      "%pylab inline\n",
      "\n",
      "import latexstyle\n",
      "latexstyle.setup()"
     ],
     "language": "python",
     "metadata": {},
     "outputs": [
      {
       "output_type": "stream",
       "stream": "stdout",
       "text": [
        "Populating the interactive namespace from numpy and matplotlib\n"
       ]
      }
     ],
     "prompt_number": 1
    },
    {
     "cell_type": "code",
     "collapsed": false,
     "input": [
      "def to_paramstr(kappa, scaling, search, rho=None):\n",
      "    if rho is None:\n",
      "        return '_kappa={kappa} scaling={scaling}_search={search!r}'.format(\n",
      "            kappa=kappa, scaling=scaling, search=search)\n",
      "    else:\n",
      "        return '_kappa={kappa} scaling={scaling}_search={search!r} rho={rho}'.format(\n",
      "            kappa=kappa, scaling=scaling, search=search, rho=rho)\n",
      "\n",
      "def iter_trial_filenames(basename, start=0):\n",
      "    i = start\n",
      "    while True:\n",
      "        filename = os.path.join('..', 'Data', '{}.{}.h5'.format(basename, i))\n",
      "        if not os.path.isfile(filename):\n",
      "            if i == start:\n",
      "                warnings.warn(\"No datafiles for '{}'.\".format(basename))\n",
      "            return\n",
      "        yield filename\n",
      "        i += 1\n",
      "\n",
      "def extend_data(a, size):\n",
      "    cur_size = a.size\n",
      "    a = np.resize(a, size)\n",
      "    a[cur_size:] = a[cur_size - 1]\n",
      "    return a\n",
      "\n",
      "def cached(fn):\n",
      "    cache = {}\n",
      "    def fn_with_cache(*args):\n",
      "        if args not in cache:\n",
      "            cache[args] = fn(*args)\n",
      "        return cache[args]\n",
      "    return fn_with_cache    "
     ],
     "language": "python",
     "metadata": {},
     "outputs": [],
     "prompt_number": 2
    },
    {
     "cell_type": "code",
     "collapsed": false,
     "input": [
      "@cached\n",
      "def get_error_trace(experiment, paramstr, error_type, std=False):\n",
      "    datasets = []\n",
      "    for filename in iter_trial_filenames(os.path.join(experiment, paramstr)):\n",
      "        with tables.open_file(filename) as fileh:\n",
      "            try:\n",
      "                x = fileh.root.plume_found_step[0]\n",
      "            except:\n",
      "                if hasattr(fileh.root, 'exception'):\n",
      "                    print fileh.root.exception[0]\n",
      "                else:\n",
      "                    print 'f'\n",
      "                pass\n",
      "            d = fileh.get_node(fileh.root, error_type).read()\n",
      "            d /= d[0]\n",
      "            datasets.append(d)\n",
      "    if len(datasets) <= 0:\n",
      "        return np.ones(5000)\n",
      "    datasets = [extend_data(d, 5000) for d in datasets]\n",
      "    if std:\n",
      "        return np.mean(datasets, axis=0), np.std(datasets, axis=0)\n",
      "    else:\n",
      "        return np.mean(datasets, axis=0)"
     ],
     "language": "python",
     "metadata": {},
     "outputs": [],
     "prompt_number": 3
    },
    {
     "cell_type": "code",
     "collapsed": false,
     "input": [
      "exp_labels = {'SingleSourceGaussianDispersion': 'D-SN-SS-SV', 'MultiSourceGaussianDispersion': 'D-SN-MS-SV'}\n",
      "error_labels = {'rmse': 'RMISE', 'wrmse': 'WRMISE', 'rewards': 'QRSim reward'}\n",
      "\n",
      "def plot_error_traces(kappa, experiments):\n",
      "    fig = plt.figure(figsize=(5.35, 3))\n",
      "    \n",
      "    legend_height = 0.05\n",
      "    grid = GridSpec(\n",
      "        2, 1, height_ratios=(1.0 - legend_height, legend_height),\n",
      "        hspace=0.2, bottom=0.05, left=0.1, top=0.925, right=0.9725)\n",
      "    \n",
      "    class ErrorPlotMatrix(SharedAxesGrid):\n",
      "        def _create_axes(self, subplot_spec, sharex, sharey):\n",
      "            return fig.add_subplot(subplot_spec, sharex=sharex, sharey=sharey)\n",
      "        \n",
      "        def _plot(self, ax, experiment, error_type):\n",
      "            ax.set_title('{}, {}'.format(exp_labels[experiment], error_labels[error_type]))\n",
      "            ax.plot(\n",
      "                get_error_trace(experiment, to_paramstr(kappa, '70', 'complete'), error_type),\n",
      "                label='complete search', c=palette.thin[0])\n",
      "            ax.plot(\n",
      "                get_error_trace(experiment, to_paramstr(kappa, 'auto', 'complete'), error_type),\n",
      "                label='complete search, auto-scaled', lw=1.2, c=palette.thin[1])\n",
      "            ln, = ax.plot(\n",
      "                get_error_trace(experiment, to_paramstr(kappa, '70', 'wind'), error_type),\n",
      "                label='wind based search', c=palette.thin[2])\n",
      "            ln.set_dashes((3, 3))\n",
      "            ln, = ax.plot(\n",
      "                get_error_trace(experiment, to_paramstr(kappa, 'auto', 'wind'), error_type),\n",
      "                label='wind based search, auto-scaled', lw=1.2, c=palette.thin[3])\n",
      "            ln.set_dashes((3, 3))\n",
      "    \n",
      "    error_types = ['rmse', 'wrmse', 'rewards']\n",
      "    p = ErrorPlotMatrix(experiments, error_types, SubplotSpec(grid, 0), hspace=0.25)\n",
      "    latexstyle.style_axes(p.axes)\n",
      "    for ax in p.axes_by_row[:-1]:\n",
      "        plt.setp(ax.get_xticklabels(), visible=False)\n",
      "    for ax in p.axes_by_col[1:]:\n",
      "        plt.setp(ax.get_yticklabels(), visible=False)\n",
      "    p.axes_by_row[-1].set_xlabel('Simulation time [s]', labelpad=0)\n",
      "    p.axes_by_col[0].set_ylabel('Normalized error', labelpad=0)\n",
      "    \n",
      "    ax_legend = fig.add_subplot(grid[1])\n",
      "    ax_legend.set_axis_off()\n",
      "    ax_legend.legend(\n",
      "    *p.axes[0].get_legend_handles_labels(), ncol=2, loc='upper center',\n",
      "    bbox_to_anchor=(0.5, 1.0), frameon=False)\n",
      "    return fig"
     ],
     "language": "python",
     "metadata": {},
     "outputs": [],
     "prompt_number": 8
    },
    {
     "cell_type": "code",
     "collapsed": false,
     "input": [
      "fig = plot_error_traces('1.25e9', ['SingleSourceGaussianDispersion', 'MultiSourceGaussianDispersion'])"
     ],
     "language": "python",
     "metadata": {},
     "outputs": [
      {
       "metadata": {},
       "output_type": "display_data",
       "png": "[encoded data removed]",
       "text": [
        "<matplotlib.figure.Figure at 0x113757250>"
       ]
      }
     ],
     "prompt_number": 9
    },
    {
     "cell_type": "code",
     "collapsed": false,
     "input": [
      "fig.savefig('../../thesis/plots/noisy-sv.pdf')"
     ],
     "language": "python",
     "metadata": {},
     "outputs": [],
     "prompt_number": 10
    },
    {
     "cell_type": "code",
     "collapsed": false,
     "input": [
      "def get_data(experiment, kappa, scaling, search, error_type):\n",
      "    rhos = ['1e-5', '1e-6', '1e-7', '1e-8', '1e-9', '1e-10', '1e-11']\n",
      "    errors = []\n",
      "    stds = []\n",
      "    for rho in rhos:\n",
      "        m, s = get_error_trace(experiment, to_paramstr(kappa, scaling, search, rho), error_type, True)\n",
      "        errors.append(m[-1])\n",
      "        stds.append(m[-1])\n",
      "    return [float(rho) for rho in rhos], errors, stds\n",
      "\n",
      "fig = plt.figure(figsize=(5.35, 1.5))\n",
      "    \n",
      "legend_height = 0.2\n",
      "grid = GridSpec(\n",
      "    2, 1, height_ratios=(1.0 - legend_height, legend_height),\n",
      "    hspace=0.4, bottom=0.05, left=0.1, top=0.9, right=0.9725)\n",
      "\n",
      "class ErrorPlotMatrix(SharedAxesGrid):\n",
      "    def _create_axes(self, subplot_spec, sharex, sharey):\n",
      "        return fig.add_subplot(subplot_spec, sharex=sharex, sharey=sharey)\n",
      "    \n",
      "    def _plot(self, ax, experiment, error_type):\n",
      "        experiment = 'MultiHeli'\n",
      "        kappa = '1.25e9'\n",
      "        rhos, mean, std = get_data(experiment, kappa, '70', 'complete', error_type)\n",
      "        ax.plot(rhos, mean,\n",
      "            label='complete search', c=palette.thin[0], marker='o')\n",
      "        rhos, mean, std = get_data(experiment, kappa, 'auto', 'complete', error_type)\n",
      "        ax.plot(rhos, mean,\n",
      "            label='complete search, auto-scaled', lw=1.2, c=palette.thin[1], marker='o')\n",
      "        rhos, mean, std = get_data(experiment, kappa, '70', 'wind', error_type)\n",
      "        ln, = ax.plot(rhos, mean,\n",
      "            label='wind based search', c=palette.thin[2], marker='o')\n",
      "        ln.set_dashes((3, 3))\n",
      "        rhos, mean, std = get_data(experiment, kappa, 'auto', 'wind', error_type)\n",
      "        ln, = ax.plot(rhos, mean,\n",
      "            label='wind based search, auto-scaled', lw=1.2, c=palette.thin[3], marker='o')\n",
      "        ln.set_dashes((3, 3))\n",
      "        ax.set_title(error_labels[error_type])\n",
      "\n",
      "error_types = ['rmse', 'wrmse', 'rewards']\n",
      "p = ErrorPlotMatrix(['MultiHeli'], error_types, SubplotSpec(grid, 0), hspace=0.25)\n",
      "p.axes.semilogx()\n",
      "latexstyle.style_axes(p.axes)\n",
      "for ax in p.axes_by_col[1:]:\n",
      "    plt.setp(ax.get_yticklabels(), visible=False)\n",
      "p.axes_by_row[-1].set_xlabel(r'$\\rho$', labelpad=0)\n",
      "p.axes_by_col[0].set_ylabel('Normalized error', labelpad=0)\n",
      "p.axes.set_ylim(top=1.0)\n",
      "    \n",
      "ax_legend = fig.add_subplot(grid[1])\n",
      "ax_legend.set_axis_off()\n",
      "ax_legend.legend(\n",
      "    *p.axes[0].get_legend_handles_labels(), ncol=2, loc='upper center',\n",
      "bbox_to_anchor=(0.5, 1.0), frameon=False)\n"
     ],
     "language": "python",
     "metadata": {},
     "outputs": [
      {
       "metadata": {},
       "output_type": "pyout",
       "prompt_number": 35,
       "text": [
        "<matplotlib.legend.Legend at 0x113d09050>"
       ]
      },
      {
       "metadata": {},
       "output_type": "display_data",
       "png": "[encoded data removed]",
       "text": [
        "<matplotlib.figure.Figure at 0x113de48d0>"
       ]
      }
     ],
     "prompt_number": 35
    },
    {
     "cell_type": "code",
     "collapsed": false,
     "input": [
      "fig.savefig('../../thesis/plots/multiple-uav.pdf')"
     ],
     "language": "python",
     "metadata": {},
     "outputs": [],
     "prompt_number": 36
    },
    {
     "cell_type": "code",
     "collapsed": false,
     "input": [
      "fig = plt.figure(figsize=(2.5, 2))\n",
      "legend_height = 0.05\n",
      "grid = GridSpec(\n",
      "    2, 1, height_ratios=(1.0 - legend_height, legend_height), hspace=0.25,\n",
      "    left=0.13, right=0.925, bottom=0.1, top=0.82)\n",
      "\n",
      "ax = fig.add_subplot(grid[0])\n",
      "kappa = '1.25e9'\n",
      "rhos = ['1e-5', '1e-6', '1e-7', '1e-8', '1e-9', '1e-10', '1e-11']\n",
      "experiment = 'MultiHeli'\n",
      "error_type = 'rmse'\n",
      "for rho in rhos:\n",
      "    ln, = ax.plot(\n",
      "        get_error_trace(experiment, to_paramstr(kappa, '70', 'complete', rho), error_type),\n",
      "        c=palette.thin[1], label=r'multiple UAV, different $\\rho$')\n",
      "    ln.set_dashes((3, 3))\n",
      "ax.plot(\n",
      "    get_error_trace('MultiSourceGaussianDispersion', to_paramstr(kappa, '70', 'complete'), error_type),\n",
      "    c=palette.thin[3], label='single UAV')\n",
      "\n",
      "latexstyle.style_axes(ax)\n",
      "ax.set_xlabel('Simulation time [s]', labelpad=2)\n",
      "ax.set_ylabel('Normalized RMISE', labelpad=3)\n",
      "\n",
      "ax_legend = fig.add_subplot(grid[1])\n",
      "ax_legend.set_axis_off()\n",
      "handles, labels = ax.get_legend_handles_labels()\n",
      "handles = handles[-2:]\n",
      "labels = labels[-2:]\n",
      "ax_legend.legend(\n",
      "    handles, labels, ncol=2, loc='upper center',\n",
      "    bbox_to_anchor=(0.5, 1.0), frameon=False)"
     ],
     "language": "python",
     "metadata": {},
     "outputs": [
      {
       "metadata": {},
       "output_type": "pyout",
       "prompt_number": 41,
       "text": [
        "<matplotlib.legend.Legend at 0x114050510>"
       ]
      },
      {
       "metadata": {},
       "output_type": "display_data",
       "png": "[encoded data removed]",
       "text": [
        "<matplotlib.figure.Figure at 0x11404d610>"
       ]
      }
     ],
     "prompt_number": 41
    },
    {
     "cell_type": "code",
     "collapsed": false,
     "input": [
      "fig.savefig('../../thesis/plots/sv-vs-mv.pdf')"
     ],
     "language": "python",
     "metadata": {},
     "outputs": [],
     "prompt_number": 42
    },
    {
     "cell_type": "code",
     "collapsed": false,
     "input": [
      "def print_error_tbl_line(experiment, search, scaling, error_type):\n",
      "    if experiment == 'SingleSourceGaussianDispersion':\n",
      "        err_cor_path = '../Data/d-sn-ss-sv.errcor.h5'\n",
      "    elif experiment == 'MultiSourceGaussianDispersion':\n",
      "        err_cor_path = '../Data/d-sn-ms-sv.errcor.h5'\n",
      "    with tables.open_file(err_cor_path) as fileh:\n",
      "        err_cor = fileh.root.errcor.read()\n",
      "    \n",
      "    paramstr = to_paramstr('1.25e9', scaling, search)\n",
      "    err0 = []\n",
      "    err_final = []\n",
      "    for filename in iter_trial_filenames(os.path.join(experiment, paramstr)):\n",
      "        with tables.open_file(filename) as fileh:\n",
      "            d = fileh.get_node(fileh.root, error_type).read()\n",
      "            err0.append(d[0])\n",
      "            err_final.append(d[-1])\n",
      "    \n",
      "    err0 = np.asarray(err0)\n",
      "    err_final = np.asarray(err_final)\n",
      "    \n",
      "    umean = np.mean(err_final * err_cor)\n",
      "    ustd = np.std(err_final * err_cor)\n",
      "    mean = np.mean(err_final / err0)\n",
      "    std = np.std(err_final / err0)\n",
      "\n",
      "    s = scaling\n",
      "    if s != 'auto':\n",
      "        s = 'constant'\n",
      "    \n",
      "    print r'{search} & {scaling} & {umean:.2f} & {ustd:.2f} & {mean:.2f} & {std:.2f} \\\\'.format(\n",
      "        search=search, scaling=s, umean=umean * 1e9, ustd=ustd * 1e9, mean=mean, std=std)"
     ],
     "language": "python",
     "metadata": {},
     "outputs": [],
     "prompt_number": 22
    },
    {
     "cell_type": "code",
     "collapsed": false,
     "input": [
      "print_error_tbl_line('SingleSourceGaussianDispersion', 'complete', '70', 'rmse')\n",
      "print_error_tbl_line('SingleSourceGaussianDispersion', 'complete', 'auto', 'rmse')\n",
      "print_error_tbl_line('SingleSourceGaussianDispersion', 'wind', '70', 'rmse')\n",
      "print_error_tbl_line('SingleSourceGaussianDispersion', 'wind', 'auto', 'rmse')"
     ],
     "language": "python",
     "metadata": {},
     "outputs": [
      {
       "output_type": "stream",
       "stream": "stdout",
       "text": [
        "complete & constant & 4.06 & 2.60 & 0.75 & 0.24 \\\\\n",
        "complete & auto & 4.16 & 2.83 & 0.75 & 0.23 \\\\"
       ]
      },
      {
       "output_type": "stream",
       "stream": "stdout",
       "text": [
        "\n",
        "wind & constant & 3.90 & 2.43 & 0.72 & 0.21 \\\\"
       ]
      },
      {
       "output_type": "stream",
       "stream": "stdout",
       "text": [
        "\n",
        "wind & auto & 3.95 & 2.69 & 0.75 & 0.23 \\\\"
       ]
      },
      {
       "output_type": "stream",
       "stream": "stdout",
       "text": [
        "\n"
       ]
      }
     ],
     "prompt_number": 23
    },
    {
     "cell_type": "code",
     "collapsed": false,
     "input": [
      "print_error_tbl_line('SingleSourceGaussianDispersion', 'complete', '70', 'wrmse')\n",
      "print_error_tbl_line('SingleSourceGaussianDispersion', 'complete', 'auto', 'wrmse')\n",
      "print_error_tbl_line('SingleSourceGaussianDispersion', 'wind', '70', 'wrmse')\n",
      "print_error_tbl_line('SingleSourceGaussianDispersion', 'wind', 'auto', 'wrmse')"
     ],
     "language": "python",
     "metadata": {},
     "outputs": [
      {
       "output_type": "stream",
       "stream": "stdout",
       "text": [
        "complete & constant & 2.57 & 2.26 & 0.67 & 0.32 \\\\\n",
        "complete & auto & 2.55 & 2.63 & 0.63 & 0.36 \\\\"
       ]
      },
      {
       "output_type": "stream",
       "stream": "stdout",
       "text": [
        "\n",
        "wind & constant & 2.27 & 2.05 & 0.60 & 0.33 \\\\"
       ]
      },
      {
       "output_type": "stream",
       "stream": "stdout",
       "text": [
        "\n",
        "wind & auto & 1.85 & 1.66 & 0.55 & 0.32 \\\\"
       ]
      },
      {
       "output_type": "stream",
       "stream": "stdout",
       "text": [
        "\n"
       ]
      }
     ],
     "prompt_number": 24
    },
    {
     "cell_type": "code",
     "collapsed": false,
     "input": [
      "print_error_tbl_line('MultiSourceGaussianDispersion', 'complete', '70', 'rmse')\n",
      "print_error_tbl_line('MultiSourceGaussianDispersion', 'complete', 'auto', 'rmse')\n",
      "print_error_tbl_line('MultiSourceGaussianDispersion', 'wind', '70', 'rmse')\n",
      "print_error_tbl_line('MultiSourceGaussianDispersion', 'wind', 'auto', 'rmse')"
     ],
     "language": "python",
     "metadata": {},
     "outputs": [
      {
       "output_type": "stream",
       "stream": "stdout",
       "text": [
        "complete & constant & 14.07 & 8.16 & 0.75 & 0.21 \\\\\n",
        "complete & auto & 13.53 & 7.51 & 0.73 & 0.17 \\\\"
       ]
      },
      {
       "output_type": "stream",
       "stream": "stdout",
       "text": [
        "\n",
        "wind & constant & 15.68 & 8.72 & 0.83 & 0.22 \\\\"
       ]
      },
      {
       "output_type": "stream",
       "stream": "stdout",
       "text": [
        "\n",
        "wind & auto & 14.75 & 8.33 & 0.77 & 0.22 \\\\"
       ]
      },
      {
       "output_type": "stream",
       "stream": "stdout",
       "text": [
        "\n"
       ]
      }
     ],
     "prompt_number": 25
    },
    {
     "cell_type": "code",
     "collapsed": false,
     "input": [
      "print_error_tbl_line('MultiSourceGaussianDispersion', 'complete', '70', 'wrmse')\n",
      "print_error_tbl_line('MultiSourceGaussianDispersion', 'complete', 'auto', 'rmse')\n",
      "print_error_tbl_line('MultiSourceGaussianDispersion', 'wind', '70', 'wrmse')\n",
      "print_error_tbl_line('MultiSourceGaussianDispersion', 'wind', 'auto', 'rmse')"
     ],
     "language": "python",
     "metadata": {},
     "outputs": [
      {
       "output_type": "stream",
       "stream": "stdout",
       "text": [
        "complete & constant & 9.02 & 7.36 & 0.70 & 0.29 \\\\\n",
        "complete & auto & 13.53 & 7.51 & 0.73 & 0.17 \\\\"
       ]
      },
      {
       "output_type": "stream",
       "stream": "stdout",
       "text": [
        "\n",
        "wind & constant & 9.99 & 6.96 & 0.77 & 0.24 \\\\"
       ]
      },
      {
       "output_type": "stream",
       "stream": "stdout",
       "text": [
        "\n",
        "wind & auto & 14.75 & 8.33 & 0.77 & 0.22 \\\\"
       ]
      },
      {
       "output_type": "stream",
       "stream": "stdout",
       "text": [
        "\n"
       ]
      }
     ],
     "prompt_number": 26
    },
    {
     "cell_type": "code",
     "collapsed": false,
     "input": [],
     "language": "python",
     "metadata": {},
     "outputs": []
    }
   ],
   "metadata": {}
  }
 ]
}