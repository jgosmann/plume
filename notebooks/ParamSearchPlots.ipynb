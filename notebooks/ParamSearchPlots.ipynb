{
 "metadata": {
  "name": ""
 },
 "nbformat": 3,
 "nbformat_minor": 0,
 "worksheets": [
  {
   "cells": [
    {
     "cell_type": "code",
     "collapsed": false,
     "input": [
      "from itertools import product\n",
      "\n",
      "import matplotlib.pyplot as plt\n",
      "import numpy as np\n",
      "import plume.visreward as visreward"
     ],
     "language": "python",
     "metadata": {},
     "outputs": [],
     "prompt_number": 54
    },
    {
     "cell_type": "code",
     "collapsed": false,
     "input": [
      "reload(visreward)"
     ],
     "language": "python",
     "metadata": {},
     "outputs": [
      {
       "metadata": {},
       "output_type": "pyout",
       "prompt_number": 26,
       "text": [
        "<module 'plume.visreward' from '/Volumes/Home/blubb/Documents/programming/uni/master/plume/plume/visreward.py'>"
       ]
      }
     ],
     "prompt_number": 26
    },
    {
     "cell_type": "code",
     "collapsed": false,
     "input": [
      "params = {\n",
      "    'DUCB': {\n",
      "        'kappa': ['0.7', '1.05'],\n",
      "        'gamma': ['-1e-4', '-2e-4', '-4e-4']\n",
      "    },\n",
      "    'PDUCB': {\n",
      "        'kappa': ['35', '70', '140'],\n",
      "        'gamma': ['0', '-1e-6', '-5e-6', '-1e-5', '-1e4']\n",
      "    }\n",
      "}"
     ],
     "language": "python",
     "metadata": {},
     "outputs": [],
     "prompt_number": 28
    },
    {
     "cell_type": "code",
     "collapsed": false,
     "input": [
      "def get_param_str(keys, values):\n",
      "    parts = []\n",
      "    for k, v in zip(keys, values):\n",
      "        parts.append('{}={}'.format(k, v))\n",
      "    return ' '.join(parts)\n",
      "\n",
      "\n",
      "def get_basenames(behavior, kernel):\n",
      "    keys = ['kappa', 'gamma']  # ensure correct order\n",
      "    values_list = product(*params[behavior].values())\n",
      "    for v in values_list:\n",
      "        yield '../Data/SingleSourceGaussian/_{behavior}_{params}_{kernel}_'.format(\n",
      "            behavior=behavior, params=get_param_str(keys, v), kernel=kernel)"
     ],
     "language": "python",
     "metadata": {},
     "outputs": [],
     "prompt_number": 50
    },
    {
     "cell_type": "code",
     "collapsed": false,
     "input": [
      "last_errors = []\n",
      "for basename in get_basenames('PDUCB', 'exp'):\n",
      "    err = visreward.get_avg_error(basename)[-1]\n",
      "    last_errors.append((err, basename))\n",
      "\n",
      "for basename in get_basenames('PDUCB', 'exp'):\n",
      "    plt.plot(visreward.get_avg_error(basename), label=basename[50:])\n",
      "print('->', sorted(last_errors))"
     ],
     "language": "python",
     "metadata": {},
     "outputs": [
      {
       "output_type": "stream",
       "stream": "stdout",
       "text": [
        "../Data/SingleSourceGaussian/_PDUCB_kappa=35 gamma=0_exp_.0.h5\n",
        "../Data/SingleSourceGaussian/_PDUCB_kappa=35 gamma=-1e-6_exp_.0.h5"
       ]
      },
      {
       "output_type": "stream",
       "stream": "stdout",
       "text": [
        "\n",
        "../Data/SingleSourceGaussian/_PDUCB_kappa=35 gamma=-5e-6_exp_.0.h5"
       ]
      },
      {
       "output_type": "stream",
       "stream": "stdout",
       "text": [
        "\n",
        "../Data/SingleSourceGaussian/_PDUCB_kappa=35 gamma=-1e-5_exp_.0.h5"
       ]
      },
      {
       "output_type": "stream",
       "stream": "stdout",
       "text": [
        "\n",
        "../Data/SingleSourceGaussian/_PDUCB_kappa=35 gamma=-1e4_exp_.0.h5"
       ]
      },
      {
       "output_type": "stream",
       "stream": "stdout",
       "text": [
        "\n",
        "../Data/SingleSourceGaussian/_PDUCB_kappa=70 gamma=0_exp_.0.h5"
       ]
      },
      {
       "output_type": "stream",
       "stream": "stdout",
       "text": [
        "\n",
        "../Data/SingleSourceGaussian/_PDUCB_kappa=70 gamma=-1e-6_exp_.0.h5"
       ]
      },
      {
       "output_type": "stream",
       "stream": "stdout",
       "text": [
        "\n",
        "../Data/SingleSourceGaussian/_PDUCB_kappa=70 gamma=-5e-6_exp_.0.h5"
       ]
      },
      {
       "output_type": "stream",
       "stream": "stdout",
       "text": [
        "\n",
        "../Data/SingleSourceGaussian/_PDUCB_kappa=70 gamma=-1e-5_exp_.0.h5"
       ]
      },
      {
       "output_type": "stream",
       "stream": "stdout",
       "text": [
        "\n",
        "../Data/SingleSourceGaussian/_PDUCB_kappa=70 gamma=-1e4_exp_.0.h5"
       ]
      },
      {
       "output_type": "stream",
       "stream": "stdout",
       "text": [
        "\n",
        "../Data/SingleSourceGaussian/_PDUCB_kappa=140 gamma=0_exp_.0.h5"
       ]
      },
      {
       "output_type": "stream",
       "stream": "stdout",
       "text": [
        "\n",
        "../Data/SingleSourceGaussian/_PDUCB_kappa=140 gamma=-1e-6_exp_.0.h5"
       ]
      },
      {
       "output_type": "stream",
       "stream": "stdout",
       "text": [
        "\n",
        "../Data/SingleSourceGaussian/_PDUCB_kappa=140 gamma=-5e-6_exp_.0.h5"
       ]
      },
      {
       "output_type": "stream",
       "stream": "stdout",
       "text": [
        "\n",
        "../Data/SingleSourceGaussian/_PDUCB_kappa=140 gamma=-1e-5_exp_.0.h5"
       ]
      },
      {
       "output_type": "stream",
       "stream": "stdout",
       "text": [
        "\n",
        "../Data/SingleSourceGaussian/_PDUCB_kappa=140 gamma=-1e4_exp_.0.h5"
       ]
      },
      {
       "output_type": "stream",
       "stream": "stdout",
       "text": [
        "\n",
        "../Data/SingleSourceGaussian/_PDUCB_kappa=35 gamma=0_exp_.0.h5"
       ]
      },
      {
       "output_type": "stream",
       "stream": "stdout",
       "text": [
        "\n",
        "../Data/SingleSourceGaussian/_PDUCB_kappa=35 gamma=-1e-6_exp_.0.h5"
       ]
      },
      {
       "output_type": "stream",
       "stream": "stdout",
       "text": [
        "\n",
        "../Data/SingleSourceGaussian/_PDUCB_kappa=35 gamma=-5e-6_exp_.0.h5"
       ]
      },
      {
       "output_type": "stream",
       "stream": "stdout",
       "text": [
        "\n",
        "../Data/SingleSourceGaussian/_PDUCB_kappa=35 gamma=-1e-5_exp_.0.h5"
       ]
      },
      {
       "output_type": "stream",
       "stream": "stdout",
       "text": [
        "\n",
        "../Data/SingleSourceGaussian/_PDUCB_kappa=35 gamma=-1e4_exp_.0.h5"
       ]
      },
      {
       "output_type": "stream",
       "stream": "stdout",
       "text": [
        "\n",
        "../Data/SingleSourceGaussian/_PDUCB_kappa=70 gamma=0_exp_.0.h5"
       ]
      },
      {
       "output_type": "stream",
       "stream": "stdout",
       "text": [
        "\n",
        "../Data/SingleSourceGaussian/_PDUCB_kappa=70 gamma=-1e-6_exp_.0.h5"
       ]
      },
      {
       "output_type": "stream",
       "stream": "stdout",
       "text": [
        "\n",
        "../Data/SingleSourceGaussian/_PDUCB_kappa=70 gamma=-5e-6_exp_.0.h5"
       ]
      },
      {
       "output_type": "stream",
       "stream": "stdout",
       "text": [
        "\n",
        "../Data/SingleSourceGaussian/_PDUCB_kappa=70 gamma=-1e-5_exp_.0.h5"
       ]
      },
      {
       "output_type": "stream",
       "stream": "stdout",
       "text": [
        "\n",
        "../Data/SingleSourceGaussian/_PDUCB_kappa=70 gamma=-1e4_exp_.0.h5"
       ]
      },
      {
       "output_type": "stream",
       "stream": "stdout",
       "text": [
        "\n",
        "../Data/SingleSourceGaussian/_PDUCB_kappa=140 gamma=0_exp_.0.h5"
       ]
      },
      {
       "output_type": "stream",
       "stream": "stdout",
       "text": [
        "\n",
        "../Data/SingleSourceGaussian/_PDUCB_kappa=140 gamma=-1e-6_exp_.0.h5"
       ]
      },
      {
       "output_type": "stream",
       "stream": "stdout",
       "text": [
        "\n",
        "../Data/SingleSourceGaussian/_PDUCB_kappa=140 gamma=-5e-6_exp_.0.h5"
       ]
      },
      {
       "output_type": "stream",
       "stream": "stdout",
       "text": [
        "\n",
        "../Data/SingleSourceGaussian/_PDUCB_kappa=140 gamma=-1e-5_exp_.0.h5"
       ]
      },
      {
       "output_type": "stream",
       "stream": "stdout",
       "text": [
        "\n",
        "../Data/SingleSourceGaussian/_PDUCB_kappa=140 gamma=-1e4_exp_.0.h5"
       ]
      },
      {
       "output_type": "stream",
       "stream": "stdout",
       "text": [
        "\n",
        "('->', [(0.12034380479470468, '../Data/SingleSourceGaussian/_PDUCB_kappa=35 gamma=-1e-5_exp_'), (0.12102225072303897, '../Data/SingleSourceGaussian/_PDUCB_kappa=35 gamma=-5e-6_exp_'), (0.12243301117065369, '../Data/SingleSourceGaussian/_PDUCB_kappa=35 gamma=0_exp_'), (0.12797696731735475, '../Data/SingleSourceGaussian/_PDUCB_kappa=35 gamma=-1e-6_exp_'), (0.15867712128189865, '../Data/SingleSourceGaussian/_PDUCB_kappa=70 gamma=-1e-6_exp_'), (0.1760086103476059, '../Data/SingleSourceGaussian/_PDUCB_kappa=140 gamma=-5e-6_exp_'), (0.18161681628062584, '../Data/SingleSourceGaussian/_PDUCB_kappa=70 gamma=-5e-6_exp_'), (0.19059122785920246, '../Data/SingleSourceGaussian/_PDUCB_kappa=70 gamma=-1e-5_exp_'), (0.19989501470736618, '../Data/SingleSourceGaussian/_PDUCB_kappa=70 gamma=0_exp_'), (0.20294496055225786, '../Data/SingleSourceGaussian/_PDUCB_kappa=140 gamma=0_exp_'), (0.20716728416986874, '../Data/SingleSourceGaussian/_PDUCB_kappa=140 gamma=-1e-6_exp_'), (0.21194918515655642, '../Data/SingleSourceGaussian/_PDUCB_kappa=140 gamma=-1e-5_exp_'), (0.44475117314480145, '../Data/SingleSourceGaussian/_PDUCB_kappa=35 gamma=-1e4_exp_'), (0.44475117735293479, '../Data/SingleSourceGaussian/_PDUCB_kappa=140 gamma=-1e4_exp_'), (0.4447512820757582, '../Data/SingleSourceGaussian/_PDUCB_kappa=70 gamma=-1e4_exp_')])"
       ]
      },
      {
       "output_type": "stream",
       "stream": "stdout",
       "text": [
        "\n"
       ]
      }
     ],
     "prompt_number": 58
    },
    {
     "cell_type": "code",
     "collapsed": false,
     "input": [
      "plt.show()"
     ],
     "language": "python",
     "metadata": {},
     "outputs": [],
     "prompt_number": 57
    },
    {
     "cell_type": "code",
     "collapsed": false,
     "input": [],
     "language": "python",
     "metadata": {},
     "outputs": []
    }
   ],
   "metadata": {}
  }
 ]
}