{
 "metadata": {
  "name": ""
 },
 "nbformat": 3,
 "nbformat_minor": 0,
 "worksheets": [
  {
   "cells": [
    {
     "cell_type": "code",
     "collapsed": false,
     "input": [
      "import itertools\n",
      "import os.path\n",
      "from sets import Set\n",
      "import sys\n",
      "sys.path.append('../plume/')\n",
      "\n",
      "import tables\n",
      "from matplotlib.gridspec import GridSpec, GridSpecFromSubplotSpec, SubplotSpec\n",
      "from neatplots.tools import HSplitAxes, SharedAxesGrid\n",
      "from neatplots.predefined import four as palette\n",
      "\n",
      "from plume.config import instantiate\n",
      "\n",
      "%pylab inline\n",
      "\n",
      "import latexstyle\n",
      "latexstyle.setup()\n",
      "\n",
      "styles = [dict(marker=m, c=c) for m, c in zip(['o', '^', 'v', 's'], palette.thin[1:] + [palette.thin[0]])]\n",
      "gray = (0.3, 0.3, 0.3)"
     ],
     "language": "python",
     "metadata": {},
     "outputs": [
      {
       "output_type": "stream",
       "stream": "stdout",
       "text": [
        "Populating the interactive namespace from numpy and matplotlib\n"
       ]
      }
     ],
     "prompt_number": 1
    },
    {
     "cell_type": "code",
     "collapsed": false,
     "input": [
      "error_type_labels = {\n",
      "    'rmse': 'RMISE',\n",
      "    'wrmse': 'WRIMSE',\n",
      "    'ise': 'ISE',\n",
      "    'wise': 'WISE',\n",
      "    'reward': 'QRSim reward',\n",
      "    'log_likelihood': 'log likelihood'\n",
      "}\n",
      "kern_labels = {\n",
      "    'RBFKernel': r'$k_{\\mathrm{SE}}(r)$',\n",
      "    'Matern32Kernel': r'$k_{5/2}(r)$',\n",
      "    'Matern52Kernel': r'$k_{3/2}(r)$',\n",
      "    'ExponentialKernel': r'$k_{\\mathrm{exp}}(r)$'\n",
      "}\n",
      "scenario_labels = {\n",
      "    'SingleSource_noiseless': 'G-NF-SS',\n",
      "    'SingleSource_dispersion_noiseless': 'D-NF-SS',\n",
      "    'MultipleSource_dispersion_noiseless': 'D-NF-MS',\n",
      "    'SingleSource_dispersion': 'D-SN-SS',\n",
      "    'MultipleSource_dispersion': 'D-SN-MS'\n",
      "}"
     ],
     "language": "python",
     "metadata": {},
     "outputs": [],
     "prompt_number": 10
    },
    {
     "cell_type": "code",
     "collapsed": false,
     "input": [
      "def get_filename(kern, scenario):\n",
      "    return '../Data/Kernels/{kern}__{scenario}_'.format(kern=kern, scenario=scenario)\n",
      "\n",
      "def load_scenario_data(\n",
      "        scenario, kernels=['RBFKernel', 'Matern52Kernel', 'Matern32Kernel', 'ExponentialKernel']):\n",
      "    return [tables.open_file(get_filename(kern, scenario)) for kern in kernels\n",
      "            if os.path.isfile(get_filename(kern, scenario))]\n",
      "\n",
      "def plot_error_vs_lengthscale(ax, data, error_type, **kwargs):\n",
      "    kern_name = kern_labels[data.root.conf[0]['kernel'][1]]\n",
      "    \n",
      "    zp_err = data.get_node('/' + error_type + '/zero_pred', 'value').read()\n",
      "    err = data.get_node('/' + error_type + '/gp_pred', 'value').read()\n",
      "    percentage = err / zp_err\n",
      "    mean = np.mean(percentage, axis=2)\n",
      "    std_err = np.std(percentage, axis=2) / np.sqrt(percentage.shape[2])\n",
      "    print mean.min()\n",
      "\n",
      "    ax.errorbar(\n",
      "        data.root.lengthscales.read(), mean[:, 0], std_err[:, 0], fmt='o-', label=kern_name, **kwargs)\n",
      "    \n",
      "def plot_error_vs_variance(ax, data, error_type, **kwargs):\n",
      "    kern_name = kern_labels[data.root.conf[0]['kernel'][1]]\n",
      "    \n",
      "    zp_err = data.get_node('/' + error_type + '/zero_pred', 'value').read()\n",
      "    err = data.get_node('/' + error_type + '/gp_pred', 'value').read()\n",
      "    percentage = err / zp_err\n",
      "    mean = np.mean(percentage, axis=2)\n",
      "    std_err = np.std(percentage, axis=2) / np.sqrt(percentage.shape[2])\n",
      "    ax.errorbar(\n",
      "        data.root.variances.read(), mean[0, :], std_err[0, :], fmt='o-', label=kern_name, **kwargs)\n",
      "    \n",
      "def create_kernel_plot_matrix(scenarios, error_types, plot_fn=plot_error_vs_lengthscale):\n",
      "    fig = plt.figure(figsize=(5.35, 6))\n",
      "    outlier_plot_ratio = 0.4\n",
      "\n",
      "    class KernelErrorPlot(SharedAxesGrid):\n",
      "        def _create_axes(self, subplot_spec, sharex, sharey):\n",
      "            return HSplitAxes(fig, subplot_spec, outlier_plot_ratio, sharex=sharex, sharey=sharey)\n",
      "        \n",
      "        def _get_share_xy(self, split):\n",
      "            return split.bottom, split.both\n",
      "        \n",
      "        def _plot(self, split, error_type, scenario):\n",
      "            for kern, style in zip(load_scenario_data(scenario), styles):\n",
      "                plot_fn(split.both, kern, error_type, **style)\n",
      "            split.both.axhline(1.0, c=gray)\n",
      "    \n",
      "    legend_height = 0.05\n",
      "    grid = GridSpec(\n",
      "        2, 1, height_ratios=(1.0 - legend_height, legend_height), hspace=2 * legend_height,\n",
      "        bottom=0.05, left=0.1, right=0.975, top=0.95)\n",
      "            \n",
      "    p = KernelErrorPlot(error_types, scenarios, SubplotSpec(grid, 0), wspace=0.15, hspace=0.15)\n",
      "    p.axes.top.loglog()\n",
      "    p.axes.bottom.semilogx()\n",
      "    \n",
      "    latexstyle.style_axes(p.axes.both)\n",
      "    p.axes.top.xaxis.set_ticks_position('none')\n",
      "    plt.setp(p.axes.top.get_xticklabels(), visible=False)\n",
      "    for ax in p.axes_by_row[:-1]:\n",
      "        plt.setp(ax.bottom.get_xticklabels(), visible=False)\n",
      "    for ax in p.axes_by_col[1:]:\n",
      "        plt.setp(ax.both.get_yticklabels(), visible=False)\n",
      "    \n",
      "    p.axes.bottom.set_ylim([0, 1.5])\n",
      "    p.axes.top.set_ylim(bottom=1.85)\n",
      "    \n",
      "    #p.axes.top.spines.get('bottom').set_visible(False)\n",
      "    \n",
      "    p.axes_by_row[-1].set_xlabel(r'$\\ell$', labelpad=0)\n",
      "    for ax, error_type in zip(p.axes_by_row, error_types):\n",
      "        ax.set_ylabel('Normalized ' + error_type_labels[error_type], labelpad=0)\n",
      "    for ax, scenario in zip(p.axes_by_col, scenarios):\n",
      "        ax[0].set_title(scenario_labels[scenario])\n",
      "        \n",
      "    ax_legend = fig.add_subplot(grid[1])\n",
      "    ax_legend.set_axis_off()\n",
      "    ax_legend.legend(\n",
      "        *p.axes[0].top.get_legend_handles_labels(), ncol=4, loc='upper center',\n",
      "        bbox_to_anchor=(0.5, 1.0), frameon=False)\n",
      "    return fig\n",
      "\n",
      "def create_kernel_plot_matrix_no_outlier(scenarios, error_types, plot_fn=plot_error_vs_lengthscale):\n",
      "    fig = plt.figure(figsize=(4, 4))\n",
      "    outlier_plot_ratio = 0.4\n",
      "\n",
      "    class KernelErrorPlotNoOutlier(SharedAxesGrid):\n",
      "        def _create_axes(self, subplot_spec, sharex, sharey):\n",
      "            return fig.add_subplot(subplot_spec, sharex=sharex, sharey=sharey)\n",
      "        \n",
      "        def _plot(self, ax, error_type, scenario):\n",
      "            for kern, style in zip(load_scenario_data(scenario), styles):\n",
      "                plot_fn(ax, kern, error_type, **style)\n",
      "    \n",
      "    legend_height = 0.05\n",
      "    grid = GridSpec(\n",
      "        1, 1,\n",
      "        bottom=0.05, left=0.1, right=0.975, top=0.95)\n",
      "            \n",
      "    p = KernelErrorPlotNoOutlier(error_types, scenarios, SubplotSpec(grid, 0), wspace=0.15, hspace=0.15)\n",
      "    p.axes.semilogx()\n",
      "    \n",
      "    latexstyle.style_axes(p.axes)\n",
      "    for ax in p.axes_by_row[:-1]:\n",
      "        plt.setp(ax.get_xticklabels(), visible=False)\n",
      "    for ax in p.axes_by_col[1:]:\n",
      "        plt.setp(ax.get_yticklabels(), visible=False)\n",
      "    \n",
      "    p.axes.set_ylim([0, 1.0])\n",
      "\n",
      "    p.axes_by_row[-1].set_xlabel(r'$\\ell$', labelpad=0)\n",
      "    for ax, error_type in zip(p.axes_by_col[0], error_types):\n",
      "        ax.set_ylabel('Normalized ' + error_type_labels[error_type], labelpad=0)\n",
      "    for ax, scenario in zip(p.axes_by_col, scenarios):\n",
      "        ax[0].set_title(scenario_labels[scenario])\n",
      "    return fig"
     ],
     "language": "python",
     "metadata": {},
     "outputs": [],
     "prompt_number": 24
    },
    {
     "cell_type": "code",
     "collapsed": false,
     "input": [
      "fig = plt.figure()\n",
      "ax = fig.add_subplot(1, 1, 1)\n",
      "data = load_scenario_data('MultipleSource_dispersion_noiseless', ['Matern32Kernel'])[0]\n",
      "plot_error_vs_lengthscale(ax, data, 'rmse')"
     ],
     "language": "python",
     "metadata": {},
     "outputs": [
      {
       "output_type": "stream",
       "stream": "stdout",
       "text": [
        "0.738989782914\n"
       ]
      },
      {
       "metadata": {},
       "output_type": "display_data",
       "png": "[encoded data removed]",
       "text": [
        "<matplotlib.figure.Figure at 0x1173ad590>"
       ]
      }
     ],
     "prompt_number": 4
    },
    {
     "cell_type": "code",
     "collapsed": false,
     "input": [
      "scenarios = [\n",
      "    'SingleSource_noiseless', 'SingleSource_dispersion_noiseless',\n",
      "    'MultipleSource_dispersion_noiseless']\n",
      "error_types = ['rmse', 'wrmse', 'reward']\n",
      "fig = create_kernel_plot_matrix(scenarios, error_types)"
     ],
     "language": "python",
     "metadata": {},
     "outputs": [
      {
       "output_type": "stream",
       "stream": "stdout",
       "text": [
        "0.0653250415133\n",
        "0.0241897595197"
       ]
      },
      {
       "output_type": "stream",
       "stream": "stdout",
       "text": [
        "\n",
        "0.026769946721"
       ]
      },
      {
       "output_type": "stream",
       "stream": "stdout",
       "text": [
        "\n",
        "0.0463211777615"
       ]
      },
      {
       "output_type": "stream",
       "stream": "stdout",
       "text": [
        "\n",
        "0.689801095199"
       ]
      },
      {
       "output_type": "stream",
       "stream": "stdout",
       "text": [
        "\n",
        "0.620667473894"
       ]
      },
      {
       "output_type": "stream",
       "stream": "stdout",
       "text": [
        "\n",
        "0.614745583718"
       ]
      },
      {
       "output_type": "stream",
       "stream": "stdout",
       "text": [
        "\n",
        "0.609315586172"
       ]
      },
      {
       "output_type": "stream",
       "stream": "stdout",
       "text": [
        "\n",
        "0.774182672555"
       ]
      },
      {
       "output_type": "stream",
       "stream": "stdout",
       "text": [
        "\n",
        "0.747706610512"
       ]
      },
      {
       "output_type": "stream",
       "stream": "stdout",
       "text": [
        "\n",
        "0.738989782914"
       ]
      },
      {
       "output_type": "stream",
       "stream": "stdout",
       "text": [
        "\n",
        "0.721272447498"
       ]
      },
      {
       "output_type": "stream",
       "stream": "stdout",
       "text": [
        "\n",
        "0.0102780555595"
       ]
      },
      {
       "output_type": "stream",
       "stream": "stdout",
       "text": [
        "\n",
        "0.00353327877041\n",
        "0.00650658817541"
       ]
      },
      {
       "output_type": "stream",
       "stream": "stdout",
       "text": [
        "\n",
        "0.0229845960885\n",
        "0.629322436405"
       ]
      },
      {
       "output_type": "stream",
       "stream": "stdout",
       "text": [
        "\n",
        "0.600192140331"
       ]
      },
      {
       "output_type": "stream",
       "stream": "stdout",
       "text": [
        "\n",
        "0.595949456894"
       ]
      },
      {
       "output_type": "stream",
       "stream": "stdout",
       "text": [
        "\n",
        "0.626102617988"
       ]
      },
      {
       "output_type": "stream",
       "stream": "stdout",
       "text": [
        "\n",
        "0.697259632999"
       ]
      },
      {
       "output_type": "stream",
       "stream": "stdout",
       "text": [
        "\n",
        "0.665629237837"
       ]
      },
      {
       "output_type": "stream",
       "stream": "stdout",
       "text": [
        "\n",
        "0.670629483246"
       ]
      },
      {
       "output_type": "stream",
       "stream": "stdout",
       "text": [
        "\n",
        "0.719368179655"
       ]
      },
      {
       "output_type": "stream",
       "stream": "stdout",
       "text": [
        "\n",
        "0.00187003849052"
       ]
      },
      {
       "output_type": "stream",
       "stream": "stdout",
       "text": [
        "\n",
        "0.000397464518286"
       ]
      },
      {
       "output_type": "stream",
       "stream": "stdout",
       "text": [
        "\n",
        "0.000628261827373"
       ]
      },
      {
       "output_type": "stream",
       "stream": "stdout",
       "text": [
        "\n",
        "0.00263469346868"
       ]
      },
      {
       "output_type": "stream",
       "stream": "stdout",
       "text": [
        "\n",
        "0.269083057158"
       ]
      },
      {
       "output_type": "stream",
       "stream": "stdout",
       "text": [
        "\n",
        "0.223657752708"
       ]
      },
      {
       "output_type": "stream",
       "stream": "stdout",
       "text": [
        "\n",
        "0.204336508021"
       ]
      },
      {
       "output_type": "stream",
       "stream": "stdout",
       "text": [
        "\n",
        "0.186055313331"
       ]
      },
      {
       "output_type": "stream",
       "stream": "stdout",
       "text": [
        "\n",
        "0.588362681203"
       ]
      },
      {
       "output_type": "stream",
       "stream": "stdout",
       "text": [
        "\n",
        "0.484093870201"
       ]
      },
      {
       "output_type": "stream",
       "stream": "stdout",
       "text": [
        "\n",
        "0.459066682783"
       ]
      },
      {
       "output_type": "stream",
       "stream": "stdout",
       "text": [
        "\n",
        "0.413060720893"
       ]
      },
      {
       "output_type": "stream",
       "stream": "stdout",
       "text": [
        "\n"
       ]
      },
      {
       "metadata": {},
       "output_type": "display_data",
       "png": "[encoded data removed]",
       "text": [
        "<matplotlib.figure.Figure at 0x1173ce390>"
       ]
      }
     ],
     "prompt_number": 5
    },
    {
     "cell_type": "code",
     "collapsed": false,
     "input": [
      "fig.savefig('../../thesis/plots/lengthscales.pdf')"
     ],
     "language": "python",
     "metadata": {},
     "outputs": [],
     "prompt_number": 6
    },
    {
     "cell_type": "code",
     "collapsed": false,
     "input": [
      "scenarios = ['SingleSource_dispersion', 'MultipleSource_dispersion']\n",
      "error_types = ['rmse', 'wrmse', 'reward']\n",
      "fig = create_kernel_plot_matrix_no_outlier(scenarios, error_types, plot_error_vs_variance)"
     ],
     "language": "python",
     "metadata": {},
     "outputs": [
      {
       "metadata": {},
       "output_type": "display_data",
       "png": "[encoded data removed]",
       "text": [
        "<matplotlib.figure.Figure at 0x1197a72d0>"
       ]
      }
     ],
     "prompt_number": 25
    },
    {
     "cell_type": "code",
     "collapsed": false,
     "input": [
      "fig.savefig('../../thesis/plots/kvar.pdf')"
     ],
     "language": "python",
     "metadata": {},
     "outputs": [],
     "prompt_number": 27
    },
    {
     "cell_type": "code",
     "collapsed": false,
     "input": [
      "scenarios = [\n",
      "    'SingleSource_noiseless', 'SingleSource_dispersion_noiseless',\n",
      "    'MultipleSource_dispersion_noiseless']\n",
      "error_types = ['log_likelihood']\n",
      "\n",
      "fig = plt.figure(figsize=(5.35, 1.5))\n",
      "\n",
      "class KernelErrorPlot(SharedAxesGrid):\n",
      "    def _create_axes(self, subplot_spec, sharex, sharey):\n",
      "        return fig.add_subplot(subplot_spec, sharex=sharex, sharey=sharey)\n",
      "    \n",
      "    def _plot(self, ax, error_type, scenario):\n",
      "        for kern, style in zip(load_scenario_data(scenario), styles):\n",
      "            kern_name = kern_labels[kern.root.conf[0]['kernel'][1]]\n",
      "    \n",
      "            ll = kern.get_node('/' + error_type + '/gp_pred', 'value').read()\n",
      "            mean = np.mean(ll, axis=2)\n",
      "            std_err = np.std(ll, axis=2) / np.sqrt(ll.shape[2])\n",
      "            print scenario, kern_name, mean.max(), kern.root.lengthscales.read()[2], mean[2]\n",
      "\n",
      "            ax.errorbar(\n",
      "                kern.root.lengthscales.read(), mean[:, 0], std_err[:, 0],\n",
      "                fmt='o-', label=kern_name, **style)\n",
      "\n",
      "legend_height = 0.1\n",
      "grid = GridSpec(\n",
      "    2, 1, height_ratios=(1.0 - legend_height, legend_height), hspace=0.4,\n",
      "    bottom=0.05, left=0.1, right=0.975, top=0.9)\n",
      "        \n",
      "p = KernelErrorPlot(error_types, scenarios, SubplotSpec(grid, 0))\n",
      "latexstyle.style_axes(p.axes)\n",
      "\n",
      "p.axes.set_xlabel(r'$\\ell$', labelpad=0)\n",
      "p.axes.semilogx()\n",
      "p.axes.set_ylim(-1500, 2600)\n",
      "p.axes_by_col[0].set_ylabel('log likelihood', labelpad=0)\n",
      "for ax in p.axes_by_col[1:]:\n",
      "    plt.setp(ax.get_yticklabels(), visible=False)\n",
      "for ax, scenario in zip(p.axes_by_col, scenarios):\n",
      "    ax[0].set_title(scenario_labels[scenario])\n",
      "    \n",
      "ax_legend = fig.add_subplot(grid[1])\n",
      "ax_legend.set_axis_off()\n",
      "ax_legend.legend(\n",
      "    *p.axes[0].get_legend_handles_labels(), ncol=4, loc='upper center',\n",
      "    bbox_to_anchor=(0.5, 1.0), frameon=False)"
     ],
     "language": "python",
     "metadata": {},
     "outputs": [
      {
       "output_type": "stream",
       "stream": "stdout",
       "text": [
        "SingleSource_noiseless $k_{\\mathrm{SE}}(r)$ -40.8717977747 5.0 [-40.87179777]\n",
        "SingleSource_noiseless"
       ]
      },
      {
       "output_type": "stream",
       "stream": "stdout",
       "text": [
        " $k_{3/2}(r)$ 1572.14411251 5.0 [-506.11348652]\n",
        "SingleSource_noiseless $k_{5/2}(r)$ 1663.50187359 5.0 [-605.51904275]\n",
        "SingleSource_noiseless"
       ]
      },
      {
       "output_type": "stream",
       "stream": "stdout",
       "text": [
        " $k_{\\mathrm{exp}}(r)$ 378.563311236 5.0 [-768.99507388]\n",
        "SingleSource_dispersion_noiseless"
       ]
      },
      {
       "output_type": "stream",
       "stream": "stdout",
       "text": [
        " $k_{\\mathrm{SE}}(r)$ -89.0232045161 5.0 [-89.02320452]\n",
        "SingleSource_dispersion_noiseless"
       ]
      },
      {
       "output_type": "stream",
       "stream": "stdout",
       "text": [
        " $k_{3/2}(r)$ 1639.56902224 5.0 [-501.81205398]\n",
        "SingleSource_dispersion_noiseless"
       ]
      },
      {
       "output_type": "stream",
       "stream": "stdout",
       "text": [
        " $k_{5/2}(r)$ 2472.04584731 5.0 [-601.83970125]\n",
        "SingleSource_dispersion_noiseless"
       ]
      },
      {
       "output_type": "stream",
       "stream": "stdout",
       "text": [
        " $k_{\\mathrm{exp}}(r)$ 378.684956855 5.0 [-766.41494249]\n",
        "MultipleSource_dispersion_noiseless"
       ]
      },
      {
       "output_type": "stream",
       "stream": "stdout",
       "text": [
        " $k_{\\mathrm{SE}}(r)$ -321.013680009 5.0 [-321.01368001]\n",
        "MultipleSource_dispersion_noiseless"
       ]
      },
      {
       "output_type": "stream",
       "stream": "stdout",
       "text": [
        " $k_{3/2}(r)$ 1859.67376873 5.0 [-600.47838597]\n",
        "MultipleSource_dispersion_noiseless"
       ]
      },
      {
       "output_type": "stream",
       "stream": "stdout",
       "text": [
        " $k_{5/2}(r)$ 2359.98191122 5.0 [-671.72938996]\n",
        "MultipleSource_dispersion_noiseless"
       ]
      },
      {
       "output_type": "stream",
       "stream": "stdout",
       "text": [
        " $k_{\\mathrm{exp}}(r)$ 341.14847592 5.0 [-795.53243089]\n"
       ]
      },
      {
       "metadata": {},
       "output_type": "pyout",
       "prompt_number": 4,
       "text": [
        "<matplotlib.legend.Legend at 0x1031fb350>"
       ]
      },
      {
       "metadata": {},
       "output_type": "display_data",
       "png": "[encoded data removed]",
       "text": [
        "<matplotlib.figure.Figure at 0x107aee550>"
       ]
      }
     ],
     "prompt_number": 4
    },
    {
     "cell_type": "code",
     "collapsed": false,
     "input": [
      "fig.savefig('../../thesis/plots/loglikelihood.pdf')"
     ],
     "language": "python",
     "metadata": {},
     "outputs": [],
     "prompt_number": 52
    },
    {
     "cell_type": "code",
     "collapsed": false,
     "input": [],
     "language": "python",
     "metadata": {},
     "outputs": []
    }
   ],
   "metadata": {}
  }
 ]
}