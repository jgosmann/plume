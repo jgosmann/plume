{
 "metadata": {
  "name": ""
 },
 "nbformat": 3,
 "nbformat_minor": 0,
 "worksheets": [
  {
   "cells": [
    {
     "cell_type": "code",
     "collapsed": false,
     "input": [
      "import tables\n",
      "#with tables.open_file('../Data/SingleSourceGaussian/_PDUCB_kappa=70 gamma=-1e-5_exp_.0.h5') as data:\n",
      "with tables.open_file('../Data/test2.0.h5') as data:\n",
      "    positions = data.root.positions.read()[0]\n",
      "    values = data.root.plume_measurements.read().T\n",
      "    locations = data.root.sample_locations.read()\n",
      "    reference_samples = np.atleast_2d(data.root.reference_samples.read()).T"
     ],
     "language": "python",
     "metadata": {},
     "outputs": [],
     "prompt_number": 17
    },
    {
     "cell_type": "code",
     "collapsed": false,
     "input": [
      "print(positions.shape)\n",
      "print(values.shape)"
     ],
     "language": "python",
     "metadata": {},
     "outputs": [
      {
       "output_type": "stream",
       "stream": "stdout",
       "text": [
        "(1000, 3)\n",
        "(1000, 1)\n"
       ]
      }
     ],
     "prompt_number": 2
    },
    {
     "cell_type": "code",
     "collapsed": false,
     "input": [
      "import plume.prediction as pred"
     ],
     "language": "python",
     "metadata": {},
     "outputs": [],
     "prompt_number": 3
    },
    {
     "cell_type": "code",
     "collapsed": false,
     "input": [
      "kernel = pred.AnisotropicExponentialKernel(np.sqrt(np.array([[20, 0, 0], [0, 20, 0], [0, 0, 20]])))\n",
      "bounds = [(None, None), (0, 0), (None, None), (0, 0), (0, 0), (None, None), (0.1, None)]\n",
      "gp = pred.LikelihoodGP(kernel, 1e-10)\n",
      "gp.bounds = bounds\n",
      "gp.fit(positions, values)"
     ],
     "language": "python",
     "metadata": {},
     "outputs": [],
     "prompt_number": 4
    },
    {
     "cell_type": "code",
     "collapsed": false,
     "input": [
      "gp.kernel.params"
     ],
     "language": "python",
     "metadata": {},
     "outputs": [
      {
       "metadata": {},
       "output_type": "pyout",
       "prompt_number": 5,
       "text": [
        "array([ 47.89914797,   0.        ,  51.45312525,   0.        ,\n",
        "         0.        ,  51.25660763,   0.10413566])"
       ]
      }
     ],
     "prompt_number": 5
    },
    {
     "cell_type": "code",
     "collapsed": false,
     "input": [
      "test_pred = gp.predict(locations)\n",
      "print -np.sum((test_pred - reference_samples)**2)"
     ],
     "language": "python",
     "metadata": {},
     "outputs": [
      {
       "output_type": "stream",
       "stream": "stdout",
       "text": [
        "-0.528670010975\n"
       ]
      }
     ],
     "prompt_number": 20
    },
    {
     "cell_type": "code",
     "collapsed": false,
     "input": [
      "kernel = pred.AnisotropicExponentialKernel(np.sqrt(np.array([[20, 0, 0], [0, 20, 0], [0, 0, 20]])))\n",
      "gp2 = pred.OnlineGP(kernel, 1e-10)\n",
      "gp2.fit(positions, values)\n",
      "test_pred = gp2.predict(locations)\n",
      "print -np.sum((test_pred - reference_samples)**2)"
     ],
     "language": "python",
     "metadata": {},
     "outputs": [
      {
       "output_type": "stream",
       "stream": "stdout",
       "text": [
        "-0.112023894572\n"
       ]
      }
     ],
     "prompt_number": 21
    },
    {
     "cell_type": "code",
     "collapsed": false,
     "input": [
      "reload(pred)"
     ],
     "language": "python",
     "metadata": {},
     "outputs": [
      {
       "metadata": {},
       "output_type": "pyout",
       "prompt_number": 47,
       "text": [
        "<module 'plume.prediction' from '/Volumes/Home/blubb/Documents/programming/uni/master/plume/plume/prediction.py'>"
       ]
      }
     ],
     "prompt_number": 47
    },
    {
     "cell_type": "code",
     "collapsed": false,
     "input": [
      "kernel = pred.AnisotropicExponentialKernel(np.sqrt(np.array([[40, 0, 0], [0, 40, 0], [0, 0, 40]])))\n",
      "bounds = [(None, None), (0, 0), (None, None), (0, 0), (0, 0), (None, None), (1, 1)]\n",
      "gpri = pred.GaussianLogPrior(np.sqrt(20), 3)\n",
      "uni = pred.UniformLogPrior()\n",
      "priors = [gpri, uni, gpri, uni, uni, gpri, uni]\n",
      "gp = pred.LikelihoodGP(kernel, 1e-10)\n",
      "gp.bounds = bounds\n",
      "gp.priors = priors\n",
      "gp.fit(positions, values)\n",
      "gp.kernel.params"
     ],
     "language": "python",
     "metadata": {},
     "outputs": [
      {
       "output_type": "stream",
       "stream": "stdout",
       "text": [
        "(1960.2140133644946, 1960.2140133644946)\n",
        "(2049.7424478373468, 2049.7424478373468)"
       ]
      },
      {
       "output_type": "stream",
       "stream": "stdout",
       "text": [
        "\n",
        "(2627.6814334389387, 2627.6814334389387)"
       ]
      },
      {
       "output_type": "stream",
       "stream": "stdout",
       "text": [
        "\n",
        "(2902.9378631298055, 2902.9378631298055)"
       ]
      },
      {
       "output_type": "stream",
       "stream": "stdout",
       "text": [
        "\n",
        "(3086.5875354367422, 3086.5875354367422)"
       ]
      },
      {
       "output_type": "stream",
       "stream": "stdout",
       "text": [
        "\n",
        "(3139.5505828924947, 3139.5505828924947)"
       ]
      },
      {
       "output_type": "stream",
       "stream": "stdout",
       "text": [
        "\n",
        "(3148.2872698875258, 3148.2872698875258)"
       ]
      },
      {
       "output_type": "stream",
       "stream": "stdout",
       "text": [
        "\n",
        "(3148.0862650658073, 3148.0862650658073)"
       ]
      },
      {
       "output_type": "stream",
       "stream": "stdout",
       "text": [
        "\n",
        "(3148.2827917575887, 3148.2827917575887)"
       ]
      },
      {
       "output_type": "stream",
       "stream": "stdout",
       "text": [
        "\n",
        "(3148.2871560615436, 3148.2871560615436)"
       ]
      },
      {
       "output_type": "stream",
       "stream": "stdout",
       "text": [
        "\n",
        "(3148.2872670724546, 3148.2872670724546)"
       ]
      },
      {
       "output_type": "stream",
       "stream": "stdout",
       "text": [
        "\n",
        "(3148.2872700081566, 3148.2872700081566)"
       ]
      },
      {
       "output_type": "stream",
       "stream": "stdout",
       "text": [
        "\n",
        "(3148.2872700030125, 3148.2872700030125)"
       ]
      },
      {
       "output_type": "stream",
       "stream": "stdout",
       "text": [
        "\n",
        "(3148.2872700081566, 3148.2872700081566)"
       ]
      },
      {
       "output_type": "stream",
       "stream": "stdout",
       "text": [
        "\n",
        "(3148.2872700081566, 3148.2872700081566)"
       ]
      },
      {
       "output_type": "stream",
       "stream": "stdout",
       "text": [
        "\n"
       ]
      },
      {
       "metadata": {},
       "output_type": "pyout",
       "prompt_number": 50,
       "text": [
        "array([ 20.73525637,   0.        ,  17.09797646,   0.        ,\n",
        "         0.        ,  23.44561464,   1.        ])"
       ]
      }
     ],
     "prompt_number": 50
    },
    {
     "cell_type": "code",
     "collapsed": false,
     "input": [
      "test_pred = gp.predict(locations)\n",
      "print -np.sum((test_pred - reference_samples)**2)"
     ],
     "language": "python",
     "metadata": {},
     "outputs": [
      {
       "output_type": "stream",
       "stream": "stdout",
       "text": [
        "-0.54317335725\n"
       ]
      }
     ],
     "prompt_number": 51
    },
    {
     "cell_type": "code",
     "collapsed": false,
     "input": [
      "L = np.array([[37.47430377, 0, 0], [3.71152279, 42.34017079, 0], [-7.0740397, -4.23230696, 49.6185428]])\n",
      "np.dot(L, L.T)"
     ],
     "language": "python",
     "metadata": {},
     "outputs": [
      {
       "metadata": {},
       "output_type": "pyout",
       "prompt_number": 46,
       "text": [
        "array([[ 1404.32344305,   139.08673248,  -265.0947126 ],\n",
        "       [  139.08673248,  1806.46546395,  -205.45205909],\n",
        "       [ -265.0947126 ,  -205.45205909,  2529.95424948]])"
       ]
      }
     ],
     "prompt_number": 46
    },
    {
     "cell_type": "code",
     "collapsed": false,
     "input": [],
     "language": "python",
     "metadata": {},
     "outputs": []
    }
   ],
   "metadata": {}
  }
 ]
}